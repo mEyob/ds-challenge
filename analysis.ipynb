{
 "cells": [
  {
   "cell_type": "code",
   "execution_count": 15,
   "id": "mineral-economics",
   "metadata": {
    "collapsed": true,
    "jupyter": {
     "outputs_hidden": true,
     "source_hidden": true
    },
    "tags": []
   },
   "outputs": [
    {
     "data": {
      "text/html": [
       "<style>\n",
       "td {\n",
       "  font-size: 15px\n",
       "}\n",
       "\n",
       "</style>\n"
      ],
      "text/plain": [
       "<IPython.core.display.HTML object>"
      ]
     },
     "metadata": {},
     "output_type": "display_data"
    }
   ],
   "source": [
    "%%HTML\n",
    "<style>\n",
    "td {\n",
    "  font-size: 15px\n",
    "}\n",
    "\n",
    "</style>"
   ]
  },
  {
   "cell_type": "code",
   "execution_count": 1,
   "id": "informational-guard",
   "metadata": {
    "jupyter": {
     "source_hidden": true
    },
    "slideshow": {
     "slide_type": "skip"
    },
    "tags": []
   },
   "outputs": [],
   "source": [
    "import pandas as pd\n",
    "import numpy as np\n",
    "import matplotlib.pyplot as plt\n",
    "import matplotlib.ticker as ticker\n",
    "from prepare_data import to_float"
   ]
  },
  {
   "cell_type": "code",
   "execution_count": 43,
   "id": "falling-invite",
   "metadata": {
    "slideshow": {
     "slide_type": "skip"
    },
    "tags": []
   },
   "outputs": [],
   "source": [
    "## Controlling plot aesthetics\n",
    "plt.style.use('ggplot')\n",
    "plt.rcParams['grid.linestyle'] = '-.'\n",
    "plt.rcParams['lines.linewidth'] = 1\n",
    "plt.rcParams['axes.grid'] = True\n",
    "plt.rcParams['font.size'] = 12\n",
    "plt.rcParams['figure.facecolor'] = 'white'\n",
    "plt.rcParams['patch.facecolor'] = 'white';"
   ]
  },
  {
   "cell_type": "markdown",
   "id": "collect-recruitment",
   "metadata": {
    "slideshow": {
     "slide_type": "slide"
    },
    "tags": []
   },
   "source": [
    "## 0. Exploration"
   ]
  },
  {
   "cell_type": "markdown",
   "id": "surgical-adrian",
   "metadata": {
    "tags": []
   },
   "source": [
    "The dataset is a collection of publicly available purchase order records of governmental departments in California state\n",
    "\n",
    "The challenge is organized into 11 questions"
   ]
  },
  {
   "cell_type": "code",
   "execution_count": 3,
   "id": "crazy-snowboard",
   "metadata": {
    "slideshow": {
     "slide_type": "skip"
    },
    "tags": []
   },
   "outputs": [
    {
     "data": {
      "text/html": [
       "<div>\n",
       "<style scoped>\n",
       "    .dataframe tbody tr th:only-of-type {\n",
       "        vertical-align: middle;\n",
       "    }\n",
       "\n",
       "    .dataframe tbody tr th {\n",
       "        vertical-align: top;\n",
       "    }\n",
       "\n",
       "    .dataframe thead th {\n",
       "        text-align: right;\n",
       "    }\n",
       "</style>\n",
       "<table border=\"1\" class=\"dataframe\">\n",
       "  <thead>\n",
       "    <tr style=\"text-align: right;\">\n",
       "      <th></th>\n",
       "      <th>Creation Date</th>\n",
       "      <th>Purchase Date</th>\n",
       "      <th>Fiscal Year</th>\n",
       "      <th>LPA Number</th>\n",
       "      <th>Purchase Order Number</th>\n",
       "      <th>Requisition Number</th>\n",
       "      <th>Acquisition Type</th>\n",
       "      <th>Sub-Acquisition Type</th>\n",
       "      <th>Acquisition Method</th>\n",
       "      <th>Sub-Acquisition Method</th>\n",
       "      <th>Department Name</th>\n",
       "      <th>Supplier Code</th>\n",
       "      <th>Supplier Name</th>\n",
       "      <th>Supplier Qualifications</th>\n",
       "      <th>Supplier Zip Code</th>\n",
       "      <th>CalCard</th>\n",
       "      <th>Item Name</th>\n",
       "      <th>Item Description</th>\n",
       "      <th>Quantity</th>\n",
       "      <th>Unit Price</th>\n",
       "      <th>Total Price</th>\n",
       "      <th>Classification Codes</th>\n",
       "      <th>Normalized UNSPSC</th>\n",
       "      <th>Commodity Title</th>\n",
       "      <th>Class</th>\n",
       "      <th>Class Title</th>\n",
       "      <th>Family</th>\n",
       "      <th>Family Title</th>\n",
       "      <th>Segment</th>\n",
       "      <th>Segment Title</th>\n",
       "      <th>Location</th>\n",
       "    </tr>\n",
       "  </thead>\n",
       "  <tbody>\n",
       "    <tr>\n",
       "      <th>244914</th>\n",
       "      <td>05/14/2015</td>\n",
       "      <td>04/07/2015</td>\n",
       "      <td>2014-2015</td>\n",
       "      <td>NaN</td>\n",
       "      <td>14-208U</td>\n",
       "      <td>NaN</td>\n",
       "      <td>NON-IT Services</td>\n",
       "      <td>Expert Witneses</td>\n",
       "      <td>Services are specifically exempt by statute</td>\n",
       "      <td>NaN</td>\n",
       "      <td>Justice, Department of</td>\n",
       "      <td>1018638.0</td>\n",
       "      <td>CONFIDENTIAL - Information Withheld</td>\n",
       "      <td>NaN</td>\n",
       "      <td>95816</td>\n",
       "      <td>NO</td>\n",
       "      <td>Expert Witness</td>\n",
       "      <td>Withheld 01 â Some or/all of the information...</td>\n",
       "      <td>1.0</td>\n",
       "      <td>$5000.00</td>\n",
       "      <td>$5000.00</td>\n",
       "      <td>80121903</td>\n",
       "      <td>80121903.0</td>\n",
       "      <td>Expert witness service</td>\n",
       "      <td>80121900.0</td>\n",
       "      <td>Compensated legal participation services</td>\n",
       "      <td>80120000.0</td>\n",
       "      <td>Legal services</td>\n",
       "      <td>80000000.0</td>\n",
       "      <td>Management and Business Professionals and Admi...</td>\n",
       "      <td>95816\\n(38.57219, -121.467691)</td>\n",
       "    </tr>\n",
       "    <tr>\n",
       "      <th>75792</th>\n",
       "      <td>10/10/2013</td>\n",
       "      <td>10/10/2013</td>\n",
       "      <td>2013-2014</td>\n",
       "      <td>1-11-70-04Q</td>\n",
       "      <td>X0639</td>\n",
       "      <td>NaN</td>\n",
       "      <td>NON-IT Goods</td>\n",
       "      <td>NaN</td>\n",
       "      <td>Statewide Contract</td>\n",
       "      <td>NaN</td>\n",
       "      <td>Justice, Department of</td>\n",
       "      <td>17224.0</td>\n",
       "      <td>Smile Business Products, Inc</td>\n",
       "      <td>NaN</td>\n",
       "      <td>95841</td>\n",
       "      <td>NO</td>\n",
       "      <td>digital color copier/printer/scanner</td>\n",
       "      <td>Installation (non-taxable), delivery, training...</td>\n",
       "      <td>1.0</td>\n",
       "      <td>$150.00</td>\n",
       "      <td>$150.00</td>\n",
       "      <td>81111818</td>\n",
       "      <td>81111818.0</td>\n",
       "      <td>Third party warranty service</td>\n",
       "      <td>81111800.0</td>\n",
       "      <td>System and system component administration ser...</td>\n",
       "      <td>81110000.0</td>\n",
       "      <td>Computer services</td>\n",
       "      <td>81000000.0</td>\n",
       "      <td>Engineering and Research and Technology Based ...</td>\n",
       "      <td>95841\\n(38.662263, -121.346136)</td>\n",
       "    </tr>\n",
       "    <tr>\n",
       "      <th>246270</th>\n",
       "      <td>11/02/2012</td>\n",
       "      <td>11/02/2012</td>\n",
       "      <td>2012-2013</td>\n",
       "      <td>NaN</td>\n",
       "      <td>4500157329</td>\n",
       "      <td>NaN</td>\n",
       "      <td>NON-IT Goods</td>\n",
       "      <td>NaN</td>\n",
       "      <td>Informal Competitive</td>\n",
       "      <td>NaN</td>\n",
       "      <td>Corrections and Rehabilitation, Department of</td>\n",
       "      <td>4097.0</td>\n",
       "      <td>Distec Supply Co., Inc.</td>\n",
       "      <td>CA-MB CA-SB</td>\n",
       "      <td>92563</td>\n",
       "      <td>NO</td>\n",
       "      <td>Reciprocating saw blades</td>\n",
       "      <td>Reciprocating saw blades, dewalt, 5VC37</td>\n",
       "      <td>2.0</td>\n",
       "      <td>$53.20</td>\n",
       "      <td>$106.40</td>\n",
       "      <td>27112747</td>\n",
       "      <td>27112747.0</td>\n",
       "      <td>Reciprocating saw</td>\n",
       "      <td>27112700.0</td>\n",
       "      <td>Power tools</td>\n",
       "      <td>27110000.0</td>\n",
       "      <td>Hand tools</td>\n",
       "      <td>27000000.0</td>\n",
       "      <td>Tools and General Machinery</td>\n",
       "      <td>92563\\n(33.576465, -117.148479)</td>\n",
       "    </tr>\n",
       "    <tr>\n",
       "      <th>39877</th>\n",
       "      <td>12/04/2013</td>\n",
       "      <td>11/27/2013</td>\n",
       "      <td>2013-2014</td>\n",
       "      <td>1-13-70-01A</td>\n",
       "      <td>CF130373</td>\n",
       "      <td>NaN</td>\n",
       "      <td>IT Goods</td>\n",
       "      <td>NaN</td>\n",
       "      <td>Statewide Contract</td>\n",
       "      <td>NaN</td>\n",
       "      <td>Forestry and Fire Protection, Department of</td>\n",
       "      <td>1755386.0</td>\n",
       "      <td>Western Blue, an NWN Company</td>\n",
       "      <td>NaN</td>\n",
       "      <td>NaN</td>\n",
       "      <td>NO</td>\n",
       "      <td>5 Year Warranty Plus NBD Onsite SErvice</td>\n",
       "      <td>Warranty</td>\n",
       "      <td>3.0</td>\n",
       "      <td>$239.20</td>\n",
       "      <td>$717.60</td>\n",
       "      <td>81111818</td>\n",
       "      <td>81111818.0</td>\n",
       "      <td>Third party warranty service</td>\n",
       "      <td>81111800.0</td>\n",
       "      <td>System and system component administration ser...</td>\n",
       "      <td>81110000.0</td>\n",
       "      <td>Computer services</td>\n",
       "      <td>81000000.0</td>\n",
       "      <td>Engineering and Research and Technology Based ...</td>\n",
       "      <td>NaN</td>\n",
       "    </tr>\n",
       "    <tr>\n",
       "      <th>28145</th>\n",
       "      <td>12/17/2012</td>\n",
       "      <td>01/06/2012</td>\n",
       "      <td>2012-2013</td>\n",
       "      <td>5-08-89-15</td>\n",
       "      <td>4500119465</td>\n",
       "      <td>NaN</td>\n",
       "      <td>NON-IT Goods</td>\n",
       "      <td>NaN</td>\n",
       "      <td>Statewide Contract</td>\n",
       "      <td>NaN</td>\n",
       "      <td>Corrections and Rehabilitation, Department of</td>\n",
       "      <td>1000709.0</td>\n",
       "      <td>US FOODSERVICE</td>\n",
       "      <td>NaN</td>\n",
       "      <td>NaN</td>\n",
       "      <td>NO</td>\n",
       "      <td>Blanket order for Kosher food 3rd qtr</td>\n",
       "      <td>Kosher food blanket order</td>\n",
       "      <td>1.0</td>\n",
       "      <td>$5000.00</td>\n",
       "      <td>$5000.00</td>\n",
       "      <td>50192702\\n50192703</td>\n",
       "      <td>50192702.0</td>\n",
       "      <td>Frozen combination meals</td>\n",
       "      <td>50192700.0</td>\n",
       "      <td>Packaged combination meals</td>\n",
       "      <td>50190000.0</td>\n",
       "      <td>Prepared and preserved foods</td>\n",
       "      <td>50000000.0</td>\n",
       "      <td>Food Beverage and Tobacco Products</td>\n",
       "      <td>NaN</td>\n",
       "    </tr>\n",
       "  </tbody>\n",
       "</table>\n",
       "</div>"
      ],
      "text/plain": [
       "       Creation Date Purchase Date Fiscal Year   LPA Number  \\\n",
       "244914    05/14/2015    04/07/2015   2014-2015          NaN   \n",
       "75792     10/10/2013    10/10/2013   2013-2014  1-11-70-04Q   \n",
       "246270    11/02/2012    11/02/2012   2012-2013          NaN   \n",
       "39877     12/04/2013    11/27/2013   2013-2014  1-13-70-01A   \n",
       "28145     12/17/2012    01/06/2012   2012-2013   5-08-89-15   \n",
       "\n",
       "       Purchase Order Number Requisition Number Acquisition Type  \\\n",
       "244914               14-208U                NaN  NON-IT Services   \n",
       "75792                  X0639                NaN     NON-IT Goods   \n",
       "246270            4500157329                NaN     NON-IT Goods   \n",
       "39877               CF130373                NaN         IT Goods   \n",
       "28145             4500119465                NaN     NON-IT Goods   \n",
       "\n",
       "       Sub-Acquisition Type                           Acquisition Method  \\\n",
       "244914      Expert Witneses  Services are specifically exempt by statute   \n",
       "75792                   NaN                           Statewide Contract   \n",
       "246270                  NaN                         Informal Competitive   \n",
       "39877                   NaN                           Statewide Contract   \n",
       "28145                   NaN                           Statewide Contract   \n",
       "\n",
       "       Sub-Acquisition Method                                Department Name  \\\n",
       "244914                    NaN                         Justice, Department of   \n",
       "75792                     NaN                         Justice, Department of   \n",
       "246270                    NaN  Corrections and Rehabilitation, Department of   \n",
       "39877                     NaN    Forestry and Fire Protection, Department of   \n",
       "28145                     NaN  Corrections and Rehabilitation, Department of   \n",
       "\n",
       "        Supplier Code                        Supplier Name  \\\n",
       "244914      1018638.0  CONFIDENTIAL - Information Withheld   \n",
       "75792         17224.0         Smile Business Products, Inc   \n",
       "246270         4097.0              Distec Supply Co., Inc.   \n",
       "39877       1755386.0         Western Blue, an NWN Company   \n",
       "28145       1000709.0                       US FOODSERVICE   \n",
       "\n",
       "       Supplier Qualifications Supplier Zip Code CalCard  \\\n",
       "244914                     NaN             95816      NO   \n",
       "75792                      NaN             95841      NO   \n",
       "246270             CA-MB CA-SB             92563      NO   \n",
       "39877                      NaN               NaN      NO   \n",
       "28145                      NaN               NaN      NO   \n",
       "\n",
       "                                      Item Name  \\\n",
       "244914                           Expert Witness   \n",
       "75792      digital color copier/printer/scanner   \n",
       "246270                 Reciprocating saw blades   \n",
       "39877   5 Year Warranty Plus NBD Onsite SErvice   \n",
       "28145     Blanket order for Kosher food 3rd qtr   \n",
       "\n",
       "                                         Item Description  Quantity  \\\n",
       "244914  Withheld 01 â Some or/all of the information...       1.0   \n",
       "75792   Installation (non-taxable), delivery, training...       1.0   \n",
       "246270            Reciprocating saw blades, dewalt, 5VC37       2.0   \n",
       "39877                                            Warranty       3.0   \n",
       "28145                           Kosher food blanket order       1.0   \n",
       "\n",
       "       Unit Price Total Price Classification Codes  Normalized UNSPSC  \\\n",
       "244914   $5000.00    $5000.00             80121903         80121903.0   \n",
       "75792     $150.00     $150.00             81111818         81111818.0   \n",
       "246270     $53.20     $106.40             27112747         27112747.0   \n",
       "39877     $239.20     $717.60             81111818         81111818.0   \n",
       "28145    $5000.00    $5000.00   50192702\\n50192703         50192702.0   \n",
       "\n",
       "                     Commodity Title       Class  \\\n",
       "244914        Expert witness service  80121900.0   \n",
       "75792   Third party warranty service  81111800.0   \n",
       "246270             Reciprocating saw  27112700.0   \n",
       "39877   Third party warranty service  81111800.0   \n",
       "28145       Frozen combination meals  50192700.0   \n",
       "\n",
       "                                              Class Title      Family  \\\n",
       "244914           Compensated legal participation services  80120000.0   \n",
       "75792   System and system component administration ser...  81110000.0   \n",
       "246270                                        Power tools  27110000.0   \n",
       "39877   System and system component administration ser...  81110000.0   \n",
       "28145                          Packaged combination meals  50190000.0   \n",
       "\n",
       "                        Family Title     Segment  \\\n",
       "244914                Legal services  80000000.0   \n",
       "75792              Computer services  81000000.0   \n",
       "246270                    Hand tools  27000000.0   \n",
       "39877              Computer services  81000000.0   \n",
       "28145   Prepared and preserved foods  50000000.0   \n",
       "\n",
       "                                            Segment Title  \\\n",
       "244914  Management and Business Professionals and Admi...   \n",
       "75792   Engineering and Research and Technology Based ...   \n",
       "246270                        Tools and General Machinery   \n",
       "39877   Engineering and Research and Technology Based ...   \n",
       "28145                  Food Beverage and Tobacco Products   \n",
       "\n",
       "                               Location  \n",
       "244914   95816\\n(38.57219, -121.467691)  \n",
       "75792   95841\\n(38.662263, -121.346136)  \n",
       "246270  92563\\n(33.576465, -117.148479)  \n",
       "39877                               NaN  \n",
       "28145                               NaN  "
      ]
     },
     "execution_count": 3,
     "metadata": {},
     "output_type": "execute_result"
    }
   ],
   "source": [
    "df = pd.read_csv(\"data/California Purchases/PURCHASE ORDER DATA EXTRACT 2012-2015_0.csv\")\n",
    "pd.set_option(\"display.max_columns\", 50)\n",
    "df.sample(5)"
   ]
  },
  {
   "cell_type": "markdown",
   "id": "prime-geometry",
   "metadata": {
    "slideshow": {
     "slide_type": "slide"
    }
   },
   "source": [
    "## Q1. What is the structure of the data in the data set?"
   ]
  },
  {
   "cell_type": "markdown",
   "id": "imported-miniature",
   "metadata": {
    "slideshow": {
     "slide_type": "subslide"
    }
   },
   "source": [
    "The dataset contains $346018$ rows of purchase orders with $31$ columns. "
   ]
  },
  {
   "cell_type": "code",
   "execution_count": 4,
   "id": "saved-germany",
   "metadata": {
    "slideshow": {
     "slide_type": "subslide"
    },
    "tags": []
   },
   "outputs": [
    {
     "data": {
      "text/plain": [
       "(346018, 31)"
      ]
     },
     "execution_count": 4,
     "metadata": {},
     "output_type": "execute_result"
    }
   ],
   "source": [
    "df.shape"
   ]
  },
  {
   "cell_type": "code",
   "execution_count": 5,
   "id": "hired-coral",
   "metadata": {
    "slideshow": {
     "slide_type": "subslide"
    },
    "tags": []
   },
   "outputs": [
    {
     "data": {
      "text/plain": [
       "Index(['Creation Date', 'Purchase Date', 'Fiscal Year', 'LPA Number',\n",
       "       'Purchase Order Number', 'Requisition Number', 'Acquisition Type',\n",
       "       'Sub-Acquisition Type', 'Acquisition Method', 'Sub-Acquisition Method',\n",
       "       'Department Name', 'Supplier Code', 'Supplier Name',\n",
       "       'Supplier Qualifications', 'Supplier Zip Code', 'CalCard', 'Item Name',\n",
       "       'Item Description', 'Quantity', 'Unit Price', 'Total Price',\n",
       "       'Classification Codes', 'Normalized UNSPSC', 'Commodity Title', 'Class',\n",
       "       'Class Title', 'Family', 'Family Title', 'Segment', 'Segment Title',\n",
       "       'Location'],\n",
       "      dtype='object')"
      ]
     },
     "execution_count": 5,
     "metadata": {},
     "output_type": "execute_result"
    }
   ],
   "source": [
    "df.columns"
   ]
  },
  {
   "cell_type": "markdown",
   "id": "international-joshua",
   "metadata": {},
   "source": [
    "---\n",
    "**Columns of interest**\n",
    "\n",
    "| Column | Description |\n",
    "| :- | :- |\n",
    "|Creation Date | When the PO was inserted into the dataset? | \n",
    "|Purchase Date | The actuall purchase date. Could be different from Creation Date |\n",
    "|Requisition Number | An identifier for requisitions made by Departments |\n",
    "|Acquisition Method | Type of acquisition used to make purchase |\n",
    "|Total Price | Total price paid ($Quantity * UnitPrice$)|\n",
    "| Normalized UNSPSC | The UNSPSC code of the good/serivce |\n",
    "\n",
    "\n",
    "**UNSPSC** stands for United Nations Standard Products and Services and it is a heirarchical coding system used for classification of products and services in to different categories. It contains the *Segment*, *Family*, *Class*, and *Comodity* heirarchical identifiers\n",
    "\n",
    "---"
   ]
  },
  {
   "cell_type": "markdown",
   "id": "sporting-stand",
   "metadata": {},
   "source": [
    "The date range covered by the dataset"
   ]
  },
  {
   "cell_type": "code",
   "execution_count": 16,
   "id": "developmental-korean",
   "metadata": {
    "tags": []
   },
   "outputs": [
    {
     "name": "stdout",
     "output_type": "stream",
     "text": [
      "Start time:  2012-07-02\n",
      "End time:    2015-06-30\n"
     ]
    }
   ],
   "source": [
    "df[\"Creation Date Format\"] = pd.to_datetime(df[\"Creation Date\"])\n",
    "print(\"Start time: \", df[\"Creation Date Format\"].min().strftime(\"%Y-%m-%d\"))\n",
    "print(\"End time:   \", df[\"Creation Date Format\"].max().strftime(\"%Y-%m-%d\"))"
   ]
  },
  {
   "cell_type": "markdown",
   "id": "fossil-redhead",
   "metadata": {
    "slideshow": {
     "slide_type": "notes"
    }
   },
   "source": [
    "Most of the columns have missing values. Most notably, the *Requisition Number* and *Sub-Acquisition Method* columns have 331649 ($95.8\\%$ of the rows) and 315122 ($91\\%$) missing values"
   ]
  },
  {
   "cell_type": "code",
   "execution_count": 19,
   "id": "educational-diamond",
   "metadata": {
    "scrolled": true,
    "slideshow": {
     "slide_type": "subslide"
    },
    "tags": []
   },
   "outputs": [
    {
     "data": {
      "text/plain": [
       "Creation Date                   0\n",
       "Purchase Date               17436\n",
       "Fiscal Year                     0\n",
       "LPA Number                 253673\n",
       "Purchase Order Number           0\n",
       "Requisition Number         331649\n",
       "Acquisition Type                0\n",
       "Sub-Acquisition Type       277681\n",
       "Acquisition Method              0\n",
       "Sub-Acquisition Method     315122\n",
       "Department Name                 0\n",
       "Supplier Code                  36\n",
       "Supplier Name                  36\n",
       "Supplier Qualifications    204273\n",
       "Supplier Zip Code           70110\n",
       "CalCard                         0\n",
       "Item Name                      31\n",
       "Item Description              200\n",
       "Quantity                       30\n",
       "Unit Price                     30\n",
       "Total Price                    30\n",
       "Classification Codes         1017\n",
       "Normalized UNSPSC            1017\n",
       "Commodity Title              3295\n",
       "Class                        3295\n",
       "Class Title                  3295\n",
       "Family                       3295\n",
       "Family Title                 3295\n",
       "Segment                      3295\n",
       "Segment Title                3295\n",
       "Location                    70110\n",
       "Creation Date Format            0\n",
       "dtype: int64"
      ]
     },
     "execution_count": 19,
     "metadata": {},
     "output_type": "execute_result"
    }
   ],
   "source": [
    "df.isna().sum()"
   ]
  },
  {
   "cell_type": "markdown",
   "id": "violent-pregnancy",
   "metadata": {},
   "source": [
    "Some of the inferred datatypes (e.g. for *Unit Price* and *Total Price* columns) are incorrect, so the corresponding columns need to be corrected before we can start analyzing the data."
   ]
  },
  {
   "cell_type": "code",
   "execution_count": 20,
   "id": "surprising-coast",
   "metadata": {
    "slideshow": {
     "slide_type": "subslide"
    },
    "tags": []
   },
   "outputs": [
    {
     "data": {
      "text/plain": [
       "Creation Date                      object\n",
       "Purchase Date                      object\n",
       "Fiscal Year                        object\n",
       "LPA Number                         object\n",
       "Purchase Order Number              object\n",
       "Requisition Number                 object\n",
       "Acquisition Type                   object\n",
       "Sub-Acquisition Type               object\n",
       "Acquisition Method                 object\n",
       "Sub-Acquisition Method             object\n",
       "Department Name                    object\n",
       "Supplier Code                     float64\n",
       "Supplier Name                      object\n",
       "Supplier Qualifications            object\n",
       "Supplier Zip Code                  object\n",
       "CalCard                            object\n",
       "Item Name                          object\n",
       "Item Description                   object\n",
       "Quantity                          float64\n",
       "Unit Price                         object\n",
       "Total Price                        object\n",
       "Classification Codes               object\n",
       "Normalized UNSPSC                 float64\n",
       "Commodity Title                    object\n",
       "Class                             float64\n",
       "Class Title                        object\n",
       "Family                            float64\n",
       "Family Title                       object\n",
       "Segment                           float64\n",
       "Segment Title                      object\n",
       "Location                           object\n",
       "Creation Date Format       datetime64[ns]\n",
       "dtype: object"
      ]
     },
     "execution_count": 20,
     "metadata": {},
     "output_type": "execute_result"
    }
   ],
   "source": [
    "df.dtypes"
   ]
  },
  {
   "cell_type": "code",
   "execution_count": 21,
   "id": "enclosed-finger",
   "metadata": {
    "slideshow": {
     "slide_type": "skip"
    }
   },
   "outputs": [],
   "source": [
    "df[\"Total Price Numeric\"] = df[\"Total Price\"].apply(to_float)"
   ]
  },
  {
   "cell_type": "code",
   "execution_count": 22,
   "id": "republican-programming",
   "metadata": {
    "slideshow": {
     "slide_type": "skip"
    }
   },
   "outputs": [],
   "source": [
    "df[\"Unit Price Numeric\"] = df[\"Unit Price\"].apply(to_float)"
   ]
  },
  {
   "cell_type": "markdown",
   "id": "corrected-perfume",
   "metadata": {
    "slideshow": {
     "slide_type": "slide"
    }
   },
   "source": [
    "## Q2. Do any columns in the data set make the most sense to be encoded into labels for better statistical analysis?"
   ]
  },
  {
   "cell_type": "markdown",
   "id": "portable-album",
   "metadata": {},
   "source": [
    "Categorical columns can be encoded into labels for better statistical analysis and model building.\n",
    "For example, the Acquisition Method is a nominal data with the following unique values"
   ]
  },
  {
   "cell_type": "code",
   "execution_count": 23,
   "id": "considered-emerald",
   "metadata": {
    "slideshow": {
     "slide_type": "subslide"
    },
    "tags": []
   },
   "outputs": [
    {
     "name": "stdout",
     "output_type": "stream",
     "text": [
      "(20,)\n"
     ]
    },
    {
     "data": {
      "text/plain": [
       "array(['WSCA/Coop', 'Informal Competitive', 'Statewide Contract',\n",
       "       'Services are specifically exempt by statute', 'SB/DVBE Option',\n",
       "       'NCB', 'Formal Competitive', 'Fair and Reasonable',\n",
       "       'State Programs', 'Services are specifically exempt by policy',\n",
       "       'CMAS', 'LCB', 'Master Purchase/Price Agreement',\n",
       "       'Master Service Agreement', 'Emergency Purchase', 'CRP',\n",
       "       'Software License Program', 'Special Category Request (SCR)',\n",
       "       'Statement of Qualifications', 'State Price Schedule'],\n",
       "      dtype=object)"
      ]
     },
     "execution_count": 23,
     "metadata": {},
     "output_type": "execute_result"
    }
   ],
   "source": [
    "print(df[\"Acquisition Method\"].unique().shape)\n",
    "df[\"Acquisition Method\"].unique()"
   ]
  },
  {
   "cell_type": "markdown",
   "id": "revolutionary-investing",
   "metadata": {},
   "source": [
    "To motivate the need for label encoding this column, let us create a simple bar plot of aggregate Total Spend per Acuisition Method"
   ]
  },
  {
   "cell_type": "code",
   "execution_count": 184,
   "id": "piano-showcase",
   "metadata": {
    "slideshow": {
     "slide_type": "skip"
    },
    "tags": []
   },
   "outputs": [],
   "source": [
    "spend_by_aq_method = df.groupby(\"Acquisition Method\", as_index=False)\\\n",
    "                     .agg(number_of_purchases=(\"Total Price Numeric\", \"count\"), \\\n",
    "                         avg_spend_per_perchase=(\"Total Price Numeric\", \"mean\"),\\\n",
    "                         total_spend=(\"Total Price Numeric\", \"sum\"))\\\n",
    "                     .sort_values(\"total_spend\", ascending=False)"
   ]
  },
  {
   "cell_type": "code",
   "execution_count": 44,
   "id": "smooth-frank",
   "metadata": {
    "slideshow": {
     "slide_type": "subslide"
    },
    "tags": []
   },
   "outputs": [
    {
     "data": {
      "image/png": "[encoded data removed]",
      "text/plain": [
       "<Figure size 432x288 with 1 Axes>"
      ]
     },
     "metadata": {},
     "output_type": "display_data"
    }
   ],
   "source": [
    "barplot = spend_by_aq_method.plot.bar(x=\"Acquisition Method\", y=\"total_spend\")\n",
    "barplot.set_ylabel(\"Total spend (in Billion Dollars)\")\n",
    "\n",
    "scale_y = 1e9\n",
    "ticks_y = ticker.FuncFormatter(lambda x, _: f'{x/scale_y:g}')\n",
    "barplot.yaxis.set_major_formatter(ticks_y)"
   ]
  },
  {
   "cell_type": "markdown",
   "id": "static-washer",
   "metadata": {
    "slideshow": {
     "slide_type": "notes"
    }
   },
   "source": [
    "The above plot shows most of the purchases are done under one of the following acquistion methods \n",
    "- Informal Competitive\n",
    "- Services are specifically exempt by statute\n",
    "- Formal Competitive and \n",
    "- Services are specifically exempt by policy\" acquisition methods respectively.\n",
    "\n",
    "However, the plot looks busy and is hard to read. Encoding the acquisition method makes it cleaner."
   ]
  },
  {
   "cell_type": "code",
   "execution_count": 45,
   "id": "intellectual-opinion",
   "metadata": {
    "slideshow": {
     "slide_type": "skip"
    }
   },
   "outputs": [],
   "source": [
    "# Encoding Acquistion Method & Acquistion Type\n",
    "df[\"Acquisition Method Encoded\"] = df[\"Acquisition Method\"].astype(\"category\")\n",
    "df[\"Acquisition Method Encoded\"] = df[\"Acquisition Method Encoded\"].cat.codes"
   ]
  },
  {
   "cell_type": "code",
   "execution_count": 46,
   "id": "unusual-bolivia",
   "metadata": {
    "slideshow": {
     "slide_type": "skip"
    }
   },
   "outputs": [],
   "source": [
    "spend_by_aq_method_encoded = df.groupby(\"Acquisition Method Encoded\", as_index=False)\\\n",
    "                     .agg(Aq_method=(\"Acquisition Method\", \"unique\"), \n",
    "                          number_of_purchases=(\"Total Price Numeric\", \"count\"), \\\n",
    "                          avg_spend_per_perchase=(\"Total Price Numeric\", \"mean\"),\\\n",
    "                          total_spend=(\"Total Price Numeric\", \"sum\"))\\\n",
    "                     .sort_values(\"total_spend\", ascending=False)"
   ]
  },
  {
   "cell_type": "code",
   "execution_count": 47,
   "id": "traditional-norfolk",
   "metadata": {
    "slideshow": {
     "slide_type": "subslide"
    },
    "tags": []
   },
   "outputs": [
    {
     "data": {
      "image/png": "[encoded data removed]",
      "text/plain": [
       "<Figure size 432x288 with 1 Axes>"
      ]
     },
     "metadata": {},
     "output_type": "display_data"
    }
   ],
   "source": [
    "barplot = spend_by_aq_method_encoded.plot.bar(x=\"Acquisition Method Encoded\", y=\"total_spend\")\n",
    "barplot.set_ylabel(\"Total spend (in Billion Dollars)\")\n",
    "\n",
    "scale_y = 1e9\n",
    "ticks_y = ticker.FuncFormatter(lambda x, _: f'{x/scale_y:g}')\n",
    "barplot.yaxis.set_major_formatter(ticks_y)"
   ]
  },
  {
   "cell_type": "markdown",
   "id": "still-number",
   "metadata": {},
   "source": [
    "> We may also need to ***dummy-encode*** categorical columns like this in order to use them as features in model building."
   ]
  },
  {
   "cell_type": "markdown",
   "id": "precious-german",
   "metadata": {
    "slideshow": {
     "slide_type": "notes"
    }
   },
   "source": [
    "Other columns that may benefit from label encoding:\n",
    "- Acquisition Type\n",
    "- Sub-Acquisition Type\n",
    "- Sub-Acquisition Method"
   ]
  },
  {
   "cell_type": "markdown",
   "id": "minimal-addiction",
   "metadata": {
    "slideshow": {
     "slide_type": "slide"
    }
   },
   "source": [
    "## Q3. Are there any obvious outliers or invalid/empty values in the labeled data set?"
   ]
  },
  {
   "cell_type": "markdown",
   "id": "frequent-consciousness",
   "metadata": {},
   "source": [
    "When label encoding a dataset, rows with missing values in the original dataset will have invalid codes in the labeled dataset. This could be a problem specific to Pandas due to the way it label encodes categorical data."
   ]
  },
  {
   "cell_type": "markdown",
   "id": "married-communications",
   "metadata": {
    "slideshow": {
     "slide_type": "notes"
    }
   },
   "source": [
    "If we label-encode the *Sub-Acquisition Method* Column, there will be $315122$ **invalid** codes with value $-1$"
   ]
  },
  {
   "cell_type": "code",
   "execution_count": 49,
   "id": "piano-villa",
   "metadata": {
    "slideshow": {
     "slide_type": "subslide"
    },
    "tags": []
   },
   "outputs": [
    {
     "data": {
      "text/plain": [
       "-1     315122\n",
       " 3      14148\n",
       " 10     11602\n",
       " 8       1810\n",
       " 7        812\n",
       " 4        565\n",
       " 12       521\n",
       " 9        503\n",
       " 2        334\n",
       " 0        328\n",
       " 1        117\n",
       " 11        83\n",
       " 13        28\n",
       " 5         18\n",
       " 6         15\n",
       " 15        10\n",
       " 14         2\n",
       "dtype: int64"
      ]
     },
     "execution_count": 49,
     "metadata": {},
     "output_type": "execute_result"
    }
   ],
   "source": [
    "sub_aq_cat = df[\"Sub-Acquisition Method\"].astype(\"category\")\n",
    "sub_aq_cat.cat.codes.value_counts()"
   ]
  },
  {
   "cell_type": "markdown",
   "id": "cheap-bicycle",
   "metadata": {},
   "source": [
    "This is due to the missing values in that column..."
   ]
  },
  {
   "cell_type": "code",
   "execution_count": 51,
   "id": "italic-lightning",
   "metadata": {
    "tags": []
   },
   "outputs": [
    {
     "data": {
      "text/plain": [
       "315122"
      ]
     },
     "execution_count": 51,
     "metadata": {},
     "output_type": "execute_result"
    }
   ],
   "source": [
    "df[\"Sub-Acquisition Method\"].isna().sum()"
   ]
  },
  {
   "cell_type": "markdown",
   "id": "rising-pacific",
   "metadata": {
    "slideshow": {
     "slide_type": "slide"
    }
   },
   "source": [
    "## Q4. What are the most expensive parts? What is the price distribution?"
   ]
  },
  {
   "cell_type": "markdown",
   "id": "guided-banks",
   "metadata": {},
   "source": [
    "> ***Assumptions***: \n",
    ">1. I assumed that \"parts\" in this question refers to the item being purchased as described by the *Item Name* column.\n",
    ">2. I also assumed that \"most expensive\" refers to the *Unit Price* instead of the *Total Price*"
   ]
  },
  {
   "cell_type": "markdown",
   "id": "recognized-simulation",
   "metadata": {
    "slideshow": {
     "slide_type": "subslide"
    }
   },
   "source": [
    "---\n",
    "The top 10 most expensive items are..."
   ]
  },
  {
   "cell_type": "code",
   "execution_count": 52,
   "id": "planned-wyoming",
   "metadata": {
    "slideshow": {
     "slide_type": "subslide"
    },
    "tags": []
   },
   "outputs": [
    {
     "data": {
      "text/html": [
       "<div>\n",
       "<style scoped>\n",
       "    .dataframe tbody tr th:only-of-type {\n",
       "        vertical-align: middle;\n",
       "    }\n",
       "\n",
       "    .dataframe tbody tr th {\n",
       "        vertical-align: top;\n",
       "    }\n",
       "\n",
       "    .dataframe thead th {\n",
       "        text-align: right;\n",
       "    }\n",
       "</style>\n",
       "<table border=\"1\" class=\"dataframe\">\n",
       "  <thead>\n",
       "    <tr style=\"text-align: right;\">\n",
       "      <th></th>\n",
       "      <th>Item Name</th>\n",
       "      <th>Department Name</th>\n",
       "      <th>Unit Price Numeric</th>\n",
       "    </tr>\n",
       "  </thead>\n",
       "  <tbody>\n",
       "    <tr>\n",
       "      <th>8790</th>\n",
       "      <td>Personal Service</td>\n",
       "      <td>Health Care Services, Department of</td>\n",
       "      <td>$7,337,038,064.0</td>\n",
       "    </tr>\n",
       "    <tr>\n",
       "      <th>304848</th>\n",
       "      <td>04-36069 A10</td>\n",
       "      <td>Health Care Services, Department of</td>\n",
       "      <td>$3,194,190,000.0</td>\n",
       "    </tr>\n",
       "    <tr>\n",
       "      <th>292165</th>\n",
       "      <td>Direct Service</td>\n",
       "      <td>Health Care Services, Department of</td>\n",
       "      <td>$3,010,052,803.0</td>\n",
       "    </tr>\n",
       "    <tr>\n",
       "      <th>314966</th>\n",
       "      <td>03-76182 A15</td>\n",
       "      <td>Health Care Services, Department of</td>\n",
       "      <td>$2,474,118,000.0</td>\n",
       "    </tr>\n",
       "    <tr>\n",
       "      <th>280645</th>\n",
       "      <td>03-76182 A18</td>\n",
       "      <td>Health Care Services, Department of</td>\n",
       "      <td>$2,253,227,000.0</td>\n",
       "    </tr>\n",
       "    <tr>\n",
       "      <th>48484</th>\n",
       "      <td>11-10019 A02</td>\n",
       "      <td>Public Health, Department of</td>\n",
       "      <td>$2,200,000,000.0</td>\n",
       "    </tr>\n",
       "    <tr>\n",
       "      <th>242591</th>\n",
       "      <td>Direct Service</td>\n",
       "      <td>Health Care Services, Department of</td>\n",
       "      <td>$1,979,109,000.0</td>\n",
       "    </tr>\n",
       "    <tr>\n",
       "      <th>339157</th>\n",
       "      <td>12-89334</td>\n",
       "      <td>Health Care Services, Department of</td>\n",
       "      <td>$1,949,122,000.0</td>\n",
       "    </tr>\n",
       "    <tr>\n",
       "      <th>38396</th>\n",
       "      <td>04-35401 A14</td>\n",
       "      <td>Health Care Services, Department of</td>\n",
       "      <td>$1,948,168,000.0</td>\n",
       "    </tr>\n",
       "    <tr>\n",
       "      <th>212412</th>\n",
       "      <td>04-36069 A09</td>\n",
       "      <td>Health Care Services, Department of</td>\n",
       "      <td>$1,877,260,000.0</td>\n",
       "    </tr>\n",
       "  </tbody>\n",
       "</table>\n",
       "</div>"
      ],
      "text/plain": [
       "               Item Name                      Department Name  \\\n",
       "8790    Personal Service  Health Care Services, Department of   \n",
       "304848      04-36069 A10  Health Care Services, Department of   \n",
       "292165    Direct Service  Health Care Services, Department of   \n",
       "314966      03-76182 A15  Health Care Services, Department of   \n",
       "280645      03-76182 A18  Health Care Services, Department of   \n",
       "48484       11-10019 A02         Public Health, Department of   \n",
       "242591    Direct Service  Health Care Services, Department of   \n",
       "339157          12-89334  Health Care Services, Department of   \n",
       "38396       04-35401 A14  Health Care Services, Department of   \n",
       "212412      04-36069 A09  Health Care Services, Department of   \n",
       "\n",
       "       Unit Price Numeric  \n",
       "8790     $7,337,038,064.0  \n",
       "304848   $3,194,190,000.0  \n",
       "292165   $3,010,052,803.0  \n",
       "314966   $2,474,118,000.0  \n",
       "280645   $2,253,227,000.0  \n",
       "48484    $2,200,000,000.0  \n",
       "242591   $1,979,109,000.0  \n",
       "339157   $1,949,122,000.0  \n",
       "38396    $1,948,168,000.0  \n",
       "212412   $1,877,260,000.0  "
      ]
     },
     "execution_count": 52,
     "metadata": {},
     "output_type": "execute_result"
    }
   ],
   "source": [
    "top10_expensive = df.loc[df[\"Unit Price\"].notna(), [\"Item Name\", \"Department Name\",\"Unit Price Numeric\"]]\\\n",
    "  .sort_values(\"Unit Price Numeric\", ascending=False).head(10)\n",
    "top10_expensive[\"Unit Price Numeric\"]=top10_expensive[\"Unit Price Numeric\"].apply(lambda x: f\"${x:,}\")\n",
    "top10_expensive"
   ]
  },
  {
   "cell_type": "markdown",
   "id": "eight-engine",
   "metadata": {},
   "source": [
    "Most of these purchases originated from the Department of Health Care Services, and the alpha-numeric values in the Item Name column seem to be (by Googling them) contract numbers under which the purchase is done.\n",
    "\n",
    "---"
   ]
  },
  {
   "cell_type": "markdown",
   "id": "altered-double",
   "metadata": {},
   "source": [
    "The following summary statistics of the price reveals two things:"
   ]
  },
  {
   "cell_type": "code",
   "execution_count": 53,
   "id": "stretch-topic",
   "metadata": {
    "slideshow": {
     "slide_type": "subslide"
    },
    "tags": []
   },
   "outputs": [
    {
     "name": "stdout",
     "output_type": "stream",
     "text": [
      "count    3.459880e+05\n",
      "mean     4.326651e+05\n",
      "std      2.136461e+07\n",
      "min     -3.086123e+07\n",
      "25%      3.468000e+01\n",
      "50%      5.506650e+02\n",
      "75%      1.019935e+04\n",
      "max      7.337038e+09\n",
      "Name: Unit Price Numeric, dtype: float64\n",
      "\n",
      "count    3.459880e+05\n",
      "mean     4.371353e+05\n",
      "std      2.136468e+07\n",
      "min     -3.086123e+07\n",
      "25%      3.000000e+02\n",
      "50%      3.600000e+03\n",
      "75%      1.481420e+04\n",
      "max      7.337038e+09\n",
      "Name: Total Price Numeric, dtype: float64\n"
     ]
    }
   ],
   "source": [
    "print(df[\"Unit Price Numeric\"].describe())\n",
    "print(\"\")\n",
    "print(df[\"Total Price Numeric\"].describe())"
   ]
  },
  {
   "cell_type": "markdown",
   "id": "relative-welsh",
   "metadata": {
    "slideshow": {
     "slide_type": "notes"
    },
    "tags": []
   },
   "source": [
    "#### 1. There are some negative values in the *Unit Price* & *Total Price* columns"
   ]
  },
  {
   "cell_type": "markdown",
   "id": "adopted-victor",
   "metadata": {},
   "source": [
    " This could be due to\n",
    "- Discounts earned for various reasons \n",
    "- Error values "
   ]
  },
  {
   "cell_type": "code",
   "execution_count": 77,
   "id": "parental-philadelphia",
   "metadata": {
    "slideshow": {
     "slide_type": "subslide"
    },
    "tags": []
   },
   "outputs": [
    {
     "data": {
      "text/plain": [
       "(1438, 36)"
      ]
     },
     "execution_count": 77,
     "metadata": {},
     "output_type": "execute_result"
    }
   ],
   "source": [
    "negative_price = df[\"Total Price Numeric\"] < 0\n",
    "df[negative_price].shape"
   ]
  },
  {
   "cell_type": "code",
   "execution_count": 82,
   "id": "general-differential",
   "metadata": {
    "tags": []
   },
   "outputs": [
    {
     "data": {
      "text/html": [
       "<div>\n",
       "<style scoped>\n",
       "    .dataframe tbody tr th:only-of-type {\n",
       "        vertical-align: middle;\n",
       "    }\n",
       "\n",
       "    .dataframe tbody tr th {\n",
       "        vertical-align: top;\n",
       "    }\n",
       "\n",
       "    .dataframe thead th {\n",
       "        text-align: right;\n",
       "    }\n",
       "</style>\n",
       "<table border=\"1\" class=\"dataframe\">\n",
       "  <thead>\n",
       "    <tr style=\"text-align: right;\">\n",
       "      <th></th>\n",
       "      <th>Number_of_purchases</th>\n",
       "      <th>min_price</th>\n",
       "      <th>total_price</th>\n",
       "    </tr>\n",
       "    <tr>\n",
       "      <th>Requisition Number</th>\n",
       "      <th></th>\n",
       "      <th></th>\n",
       "      <th></th>\n",
       "    </tr>\n",
       "  </thead>\n",
       "  <tbody>\n",
       "    <tr>\n",
       "      <th>REQ0010353</th>\n",
       "      <td>2</td>\n",
       "      <td>-759.96</td>\n",
       "      <td>0.00</td>\n",
       "    </tr>\n",
       "    <tr>\n",
       "      <th>REQ0011348</th>\n",
       "      <td>2</td>\n",
       "      <td>-6799.66</td>\n",
       "      <td>0.00</td>\n",
       "    </tr>\n",
       "    <tr>\n",
       "      <th>REQ0012576</th>\n",
       "      <td>2</td>\n",
       "      <td>-749.97</td>\n",
       "      <td>0.00</td>\n",
       "    </tr>\n",
       "    <tr>\n",
       "      <th>REQ0013592</th>\n",
       "      <td>3</td>\n",
       "      <td>-449.00</td>\n",
       "      <td>38.48</td>\n",
       "    </tr>\n",
       "    <tr>\n",
       "      <th>REQ0011965</th>\n",
       "      <td>2</td>\n",
       "      <td>-69.44</td>\n",
       "      <td>42.56</td>\n",
       "    </tr>\n",
       "    <tr>\n",
       "      <th>REQ0012083</th>\n",
       "      <td>4</td>\n",
       "      <td>-450.00</td>\n",
       "      <td>58.48</td>\n",
       "    </tr>\n",
       "    <tr>\n",
       "      <th>REQ0012957</th>\n",
       "      <td>3</td>\n",
       "      <td>-450.00</td>\n",
       "      <td>79.98</td>\n",
       "    </tr>\n",
       "    <tr>\n",
       "      <th>REQ0013833</th>\n",
       "      <td>2</td>\n",
       "      <td>-86.40</td>\n",
       "      <td>83.60</td>\n",
       "    </tr>\n",
       "    <tr>\n",
       "      <th>REQ0009844</th>\n",
       "      <td>4</td>\n",
       "      <td>-500.00</td>\n",
       "      <td>87.47</td>\n",
       "    </tr>\n",
       "    <tr>\n",
       "      <th>REQ0012062</th>\n",
       "      <td>2</td>\n",
       "      <td>-23.86</td>\n",
       "      <td>88.23</td>\n",
       "    </tr>\n",
       "  </tbody>\n",
       "</table>\n",
       "</div>"
      ],
      "text/plain": [
       "                    Number_of_purchases  min_price  total_price\n",
       "Requisition Number                                             \n",
       "REQ0010353                            2    -759.96         0.00\n",
       "REQ0011348                            2   -6799.66         0.00\n",
       "REQ0012576                            2    -749.97         0.00\n",
       "REQ0013592                            3    -449.00        38.48\n",
       "REQ0011965                            2     -69.44        42.56\n",
       "REQ0012083                            4    -450.00        58.48\n",
       "REQ0012957                            3    -450.00        79.98\n",
       "REQ0013833                            2     -86.40        83.60\n",
       "REQ0009844                            4    -500.00        87.47\n",
       "REQ0012062                            2     -23.86        88.23"
      ]
     },
     "execution_count": 82,
     "metadata": {},
     "output_type": "execute_result"
    }
   ],
   "source": [
    "# Get the requisition number of the purchases with negative price\n",
    "neg_price_rq_num = df.loc[negative_price, \"Requisition Number\"].unique() \n",
    "neg_price_rq_num = df[\"Requisition Number\"].isin(neg_price_rq_num)\n",
    "\n",
    "# Then calculate the minimum & total amounts spent under those requisitions\n",
    "df[neg_price_rq_num].groupby(\"Requisition Number\").agg(\n",
    "    Number_of_purchases=(\"Requisition Number\", \"count\"), \n",
    "    min_price=(\"Total Price Numeric\", \"min\"), \n",
    "    total_price=(\"Total Price Numeric\", \"sum\")).sort_values(by=\"total_price\").head(10)"
   ]
  },
  {
   "cell_type": "markdown",
   "id": "affecting-might",
   "metadata": {},
   "source": [
    "Although there are individual purchase orders with negative prices, purchases made under the same requistion number have a non-negative total spend\n",
    "\n",
    "So, most probably, the negative total price values are not due to error"
   ]
  },
  {
   "cell_type": "markdown",
   "id": "comprehensive-turner",
   "metadata": {
    "slideshow": {
     "slide_type": "subslide"
    }
   },
   "source": [
    "#### 2. There are a large number of outliers in the price columns. "
   ]
  },
  {
   "cell_type": "code",
   "execution_count": 92,
   "id": "endless-deadline",
   "metadata": {
    "tags": []
   },
   "outputs": [
    {
     "data": {
      "text/plain": [
       "count          345,988\n",
       "mean           437,135\n",
       "std         21,364,677\n",
       "min        -30,861,228\n",
       "25%                300\n",
       "50%              3,600\n",
       "75%             14,814\n",
       "max      7,337,038,064\n",
       "Name: Total Price Numeric, dtype: object"
      ]
     },
     "execution_count": 92,
     "metadata": {},
     "output_type": "execute_result"
    }
   ],
   "source": [
    "df[\"Total Price Numeric\"].describe().apply(lambda x: f\"{x:,.0f}\")"
   ]
  },
  {
   "cell_type": "code",
   "execution_count": 125,
   "id": "grateful-kelly",
   "metadata": {
    "tags": []
   },
   "outputs": [
    {
     "name": "stdout",
     "output_type": "stream",
     "text": [
      "Coefficient of variation: 49\n"
     ]
    }
   ],
   "source": [
    "cov = df[\"Total Price Numeric\"].std() / df[\"Total Price Numeric\"].mean()\n",
    "print(f\"Coefficient of variation: {cov:.0f}\")"
   ]
  },
  {
   "cell_type": "code",
   "execution_count": 84,
   "id": "monetary-qualification",
   "metadata": {
    "slideshow": {
     "slide_type": "subslide"
    },
    "tags": []
   },
   "outputs": [
    {
     "data": {
      "text/plain": [
       "3668.519032"
      ]
     },
     "execution_count": 84,
     "metadata": {},
     "output_type": "execute_result"
    }
   ],
   "source": [
    "# The maximum Total price is more than 3600 times the 99th percentile\n",
    "df[\"Total Price Numeric\"].max() / df[\"Total Price Numeric\"].quantile(0.99) "
   ]
  },
  {
   "cell_type": "markdown",
   "id": "popular-advertising",
   "metadata": {},
   "source": [
    "Difficult to illustrate the entire distribution using histograms or box plots due to the huge variation in the price data. \n",
    "\n",
    "So let us try to remove extreme values and see if we can plot the distribution"
   ]
  },
  {
   "cell_type": "code",
   "execution_count": 142,
   "id": "aging-portfolio",
   "metadata": {
    "tags": []
   },
   "outputs": [
    {
     "data": {
      "text/plain": [
       "(16973, 36)"
      ]
     },
     "execution_count": 142,
     "metadata": {},
     "output_type": "execute_result"
    }
   ],
   "source": [
    "df[df[\"Total Price Numeric\"] > 2e5].shape"
   ]
  },
  {
   "cell_type": "code",
   "execution_count": 151,
   "id": "elect-pregnancy",
   "metadata": {
    "tags": []
   },
   "outputs": [
    {
     "name": "stdout",
     "output_type": "stream",
     "text": [
      "5th percentile:  $12\n",
      "95th percentile: $199,985\n"
     ]
    }
   ],
   "source": [
    "q95 = df[\"Total Price Numeric\"].quantile(0.95)\n",
    "q05 = df[\"Total Price Numeric\"].quantile(0.05)\n",
    "print(f\"5th percentile:  ${q05:,.0f}\")\n",
    "print(f\"95th percentile: ${q95:,.0f}\")"
   ]
  },
  {
   "cell_type": "code",
   "execution_count": 152,
   "id": "friendly-light",
   "metadata": {
    "slideshow": {
     "slide_type": "subslide"
    },
    "tags": []
   },
   "outputs": [
    {
     "data": {
      "text/plain": [
       "Text(0.5, 0, 'Total Price ($)')"
      ]
     },
     "execution_count": 152,
     "metadata": {},
     "output_type": "execute_result"
    },
    {
     "data": {
      "image/png": "[encoded data removed]",
      "text/plain": [
       "<Figure size 1152x432 with 1 Axes>"
      ]
     },
     "metadata": {},
     "output_type": "display_data"
    }
   ],
   "source": [
    "fig = plt.figure(figsize=(16,6))\n",
    "ax = fig.add_subplot(111)\n",
    "\n",
    "expensive_items = df[\"Total Price Numeric\"] > q95\n",
    "cheap = df[\"Total Price Numeric\"] < q05\n",
    "total_price_hist = df.loc[~(expensive_items) & (~cheap), \"Total Price Numeric\"].plot(kind=\"hist\", bins=50, ec='black')\n",
    "total_price_hist.set_xlabel(\"Total Price ($)\")"
   ]
  },
  {
   "cell_type": "markdown",
   "id": "weird-finger",
   "metadata": {
    "slideshow": {
     "slide_type": "notes"
    }
   },
   "source": [
    "- About half of the purchases are cheaper than $\\$5000$ dollars\n",
    "- About $60\\%$ of the purchases are cheaper than $\\$9000$ dollars\n",
    "- The $95\\%$th percentile of total prices is $\\$200,000$"
   ]
  },
  {
   "cell_type": "markdown",
   "id": "missing-preference",
   "metadata": {},
   "source": [
    "It is also possible to show all the prices in one plot using log-scale as shown below"
   ]
  },
  {
   "cell_type": "code",
   "execution_count": 130,
   "id": "expanded-blood",
   "metadata": {
    "tags": []
   },
   "outputs": [
    {
     "data": {
      "image/png": "[encoded data removed]",
      "text/plain": [
       "<Figure size 1152x432 with 1 Axes>"
      ]
     },
     "metadata": {},
     "output_type": "display_data"
    }
   ],
   "source": [
    "fig = plt.figure(figsize=(16,6))\n",
    "ax = fig.add_subplot(111)\n",
    "price_plot = df[\"Total Price Numeric\"].plot(kind=\"hist\", bins=50, ec='black', ax=ax)\n",
    "ax.set_yscale(\"log\")\n",
    "scale_x = 1e9\n",
    "ticks_x = ticker.FuncFormatter(lambda x, _: f'{x/scale_x:g}B')\n",
    "price_plot.xaxis.set_major_formatter(ticks_x)"
   ]
  },
  {
   "cell_type": "markdown",
   "id": "incomplete-wheat",
   "metadata": {},
   "source": [
    "But this jams most of the values (more than $310,000$) into the first bin, and it is difficult to interpret"
   ]
  },
  {
   "cell_type": "markdown",
   "id": "controlling-executive",
   "metadata": {},
   "source": [
    "Removing exceptionally high & low values may help in producing a better visualization\n",
    "However, we cannot simply discard the few high-dollar purchases as outliers due to their high business value. As shown below, the top 1% purchase orders contributed about 92% of the total purchase order spend."
   ]
  },
  {
   "cell_type": "code",
   "execution_count": 175,
   "id": "analyzed-pocket",
   "metadata": {
    "tags": []
   },
   "outputs": [
    {
     "name": "stdout",
     "output_type": "stream",
     "text": [
      "$139,002,878,107\n",
      "91.8%\n"
     ]
    }
   ],
   "source": [
    "q99 = df[\"Total Price Numeric\"].quantile(0.99)\n",
    "top1_pct = df.loc[(df[\"Total Price Numeric\"]> q99), \"Total Price Numeric\"].sum()\n",
    "valid_price = df[\"Total Price Numeric\"] >= 0\n",
    "total = df.loc[valid_price,\"Total Price Numeric\"].sum()\n",
    "print(f\"${top1_pct:,.0f}\")\n",
    "print(f\"{100*top1_pct / total:.1f}%\")"
   ]
  },
  {
   "cell_type": "markdown",
   "id": "finnish-integrity",
   "metadata": {
    "slideshow": {
     "slide_type": "slide"
    }
   },
   "source": [
    "## Q5. How has Purchase Order spend been trending over time?"
   ]
  },
  {
   "cell_type": "markdown",
   "id": "responsible-correction",
   "metadata": {},
   "source": [
    ">**Assumption**: One critical assumption in this section is that the Creation Date is being used as a proxy for the actual Purchase Date because the Purchase Date column contains many invalid and null values. However, we should keep in mind that purchase order records are sometimes created on a later date than the actual purchase date."
   ]
  },
  {
   "cell_type": "code",
   "execution_count": 166,
   "id": "hidden-mystery",
   "metadata": {
    "slideshow": {
     "slide_type": "subslide"
    },
    "tags": []
   },
   "outputs": [
    {
     "data": {
      "image/png": "[encoded data removed]",
      "text/plain": [
       "<Figure size 576x432 with 1 Axes>"
      ]
     },
     "metadata": {},
     "output_type": "display_data"
    }
   ],
   "source": [
    "df[\"Creation Year\"] = pd.to_datetime(df[\"Creation Date\"], errors=\"coerce\").dt.to_period('Y')\n",
    "\n",
    "spend_trend = df.groupby(\"Creation Year\", as_index=False).agg(Spend=(\"Total Price Numeric\", \"sum\"))\n",
    "years = spend_trend[\"Creation Year\"].apply(lambda x: x.year)\n",
    "m,b = np.polyfit(years, spend_trend[\"Spend\"], 1)\n",
    "\n",
    "fig = plt.figure(figsize=(8,6))\n",
    "ax = fig.add_subplot(111)\n",
    "ax.plot(years, spend_trend[\"Spend\"],'-o', label=\"Spend\")\n",
    "ax.plot(years, m*years + b, dashes=[6,2], label=\"Trend line\")\n",
    "\n",
    "scale_y = 1e9\n",
    "ticks_y = ticker.FuncFormatter(lambda x, _: f'{x/scale_y:.0f}B')\n",
    "ax.yaxis.set_major_formatter(ticks_y)\n",
    "ax.locator_params(integer=True)\n",
    "ax.set_xlabel(\"Creation Year\")\n",
    "ax.set_ylabel(\"Spend in Billions ($)\")\n",
    "ax.legend();"
   ]
  },
  {
   "cell_type": "markdown",
   "id": "classical-staff",
   "metadata": {
    "slideshow": {
     "slide_type": "notes"
    }
   },
   "source": [
    "In general, the spending trend over the years has been growing. \n",
    "The spike in 2013 is the result of a few high-dollar spends whose actual purchase date backdates the creation date."
   ]
  },
  {
   "cell_type": "markdown",
   "id": "purple-brain",
   "metadata": {},
   "source": [
    "The following plot shows the spend trend per quarter"
   ]
  },
  {
   "cell_type": "code",
   "execution_count": 181,
   "id": "specific-alcohol",
   "metadata": {
    "slideshow": {
     "slide_type": "skip"
    },
    "tags": []
   },
   "outputs": [
    {
     "data": {
      "image/png": "[encoded data removed]",
      "text/plain": [
       "<Figure size 576x432 with 1 Axes>"
      ]
     },
     "metadata": {},
     "output_type": "display_data"
    }
   ],
   "source": [
    "df[\"Creation Year-Quarter\"] = pd.to_datetime(df[\"Creation Date\"]).dt.to_period('Q')\n",
    "\n",
    "spend_trend = df.groupby(\"Creation Year-Quarter\", as_index=False).agg(\n",
    "    Spend=(\"Total Price Numeric\", \"sum\"))\n",
    "\n",
    "fig = plt.figure(figsize=(8,6))\n",
    "ax = fig.add_subplot(111)\n",
    "spend_plot = spend_trend.plot(x=\"Creation Year-Quarter\", y=\"Spend\", kind=\"line\", ax=ax, marker=\"o\")\n",
    "\n",
    "scale_y = 1e9\n",
    "ticks_y = ticker.FuncFormatter(lambda x, _: f'{x/scale_y:.0f}B')\n",
    "spend_plot.yaxis.set_major_formatter(ticks_y)\n",
    "spend_plot.set_xlabel(\"Quarter\")\n",
    "spend_plot.set_ylabel(\"Spend in Billions ($)\");"
   ]
  },
  {
   "cell_type": "markdown",
   "id": "therapeutic-blood",
   "metadata": {
    "slideshow": {
     "slide_type": "skip"
    }
   },
   "source": [
    "The spend trend has a saw-tooth shape with spend picking in the 1st & 2nd quarters and dropping in quarters 3 & 4"
   ]
  },
  {
   "cell_type": "markdown",
   "id": "separated-outdoors",
   "metadata": {
    "slideshow": {
     "slide_type": "slide"
    }
   },
   "source": [
    "## Q6. Which departments are spending the most money?"
   ]
  },
  {
   "cell_type": "markdown",
   "id": "distant-budapest",
   "metadata": {
    "slideshow": {
     "slide_type": "notes"
    }
   },
   "source": [
    "The top 10 departments by spend are..."
   ]
  },
  {
   "cell_type": "code",
   "execution_count": 172,
   "id": "binding-ballet",
   "metadata": {
    "slideshow": {
     "slide_type": "subslide"
    }
   },
   "outputs": [
    {
     "data": {
      "text/html": [
       "<div>\n",
       "<style scoped>\n",
       "    .dataframe tbody tr th:only-of-type {\n",
       "        vertical-align: middle;\n",
       "    }\n",
       "\n",
       "    .dataframe tbody tr th {\n",
       "        vertical-align: top;\n",
       "    }\n",
       "\n",
       "    .dataframe thead th {\n",
       "        text-align: right;\n",
       "    }\n",
       "</style>\n",
       "<table border=\"1\" class=\"dataframe\">\n",
       "  <thead>\n",
       "    <tr style=\"text-align: right;\">\n",
       "      <th></th>\n",
       "      <th>Department Name</th>\n",
       "      <th>num_of_purchases</th>\n",
       "      <th>total_spend</th>\n",
       "      <th>percent_of_total</th>\n",
       "    </tr>\n",
       "  </thead>\n",
       "  <tbody>\n",
       "    <tr>\n",
       "      <th>56</th>\n",
       "      <td>Health Care Services, Department of</td>\n",
       "      <td>2862</td>\n",
       "      <td>$99,759,350,736</td>\n",
       "      <td>65.96</td>\n",
       "    </tr>\n",
       "    <tr>\n",
       "      <th>81</th>\n",
       "      <td>Public Health, Department of</td>\n",
       "      <td>4091</td>\n",
       "      <td>$5,621,707,894</td>\n",
       "      <td>3.72</td>\n",
       "    </tr>\n",
       "    <tr>\n",
       "      <th>92</th>\n",
       "      <td>Social Services, Department of</td>\n",
       "      <td>2323</td>\n",
       "      <td>$5,565,328,198</td>\n",
       "      <td>3.68</td>\n",
       "    </tr>\n",
       "    <tr>\n",
       "      <th>31</th>\n",
       "      <td>Corrections and Rehabilitation, Department of</td>\n",
       "      <td>57537</td>\n",
       "      <td>$4,711,857,451</td>\n",
       "      <td>3.12</td>\n",
       "    </tr>\n",
       "    <tr>\n",
       "      <th>93</th>\n",
       "      <td>State Hospitals, Department of</td>\n",
       "      <td>18968</td>\n",
       "      <td>$4,545,650,046</td>\n",
       "      <td>3.01</td>\n",
       "    </tr>\n",
       "    <tr>\n",
       "      <th>105</th>\n",
       "      <td>Transportation, Department of</td>\n",
       "      <td>17644</td>\n",
       "      <td>$4,347,882,800</td>\n",
       "      <td>2.87</td>\n",
       "    </tr>\n",
       "    <tr>\n",
       "      <th>57</th>\n",
       "      <td>High Speed Rail Authority, California</td>\n",
       "      <td>489</td>\n",
       "      <td>$3,565,361,682</td>\n",
       "      <td>2.36</td>\n",
       "    </tr>\n",
       "    <tr>\n",
       "      <th>110</th>\n",
       "      <td>Water Resources, Department of</td>\n",
       "      <td>28331</td>\n",
       "      <td>$2,790,266,201</td>\n",
       "      <td>1.84</td>\n",
       "    </tr>\n",
       "    <tr>\n",
       "      <th>30</th>\n",
       "      <td>Correctional Health Care Services</td>\n",
       "      <td>32220</td>\n",
       "      <td>$2,641,173,668</td>\n",
       "      <td>1.75</td>\n",
       "    </tr>\n",
       "    <tr>\n",
       "      <th>38</th>\n",
       "      <td>Employment Development Department</td>\n",
       "      <td>3412</td>\n",
       "      <td>$1,724,960,851</td>\n",
       "      <td>1.14</td>\n",
       "    </tr>\n",
       "  </tbody>\n",
       "</table>\n",
       "</div>"
      ],
      "text/plain": [
       "                                   Department Name  num_of_purchases  \\\n",
       "56             Health Care Services, Department of              2862   \n",
       "81                    Public Health, Department of              4091   \n",
       "92                  Social Services, Department of              2323   \n",
       "31   Corrections and Rehabilitation, Department of             57537   \n",
       "93                  State Hospitals, Department of             18968   \n",
       "105                  Transportation, Department of             17644   \n",
       "57           High Speed Rail Authority, California               489   \n",
       "110                 Water Resources, Department of             28331   \n",
       "30               Correctional Health Care Services             32220   \n",
       "38               Employment Development Department              3412   \n",
       "\n",
       "         total_spend  percent_of_total  \n",
       "56   $99,759,350,736             65.96  \n",
       "81    $5,621,707,894              3.72  \n",
       "92    $5,565,328,198              3.68  \n",
       "31    $4,711,857,451              3.12  \n",
       "93    $4,545,650,046              3.01  \n",
       "105   $4,347,882,800              2.87  \n",
       "57    $3,565,361,682              2.36  \n",
       "110   $2,790,266,201              1.84  \n",
       "30    $2,641,173,668              1.75  \n",
       "38    $1,724,960,851              1.14  "
      ]
     },
     "execution_count": 172,
     "metadata": {},
     "output_type": "execute_result"
    }
   ],
   "source": [
    "spend_per_dept = df.groupby(\"Department Name\", as_index=False).agg(num_of_purchases=(\"Total Price Numeric\",\"count\"), total_spend=(\"Total Price Numeric\",\"sum\")).sort_values(\"total_spend\", ascending=False)\n",
    "spend_per_dept[\"percent_of_total\"] = spend_per_dept[\"total_spend\"].apply(lambda x: round(100 *(x/spend_per_dept[\"total_spend\"].sum()),2))\n",
    "spend_per_dept[\"total_spend\"] = spend_per_dept[\"total_spend\"].apply(lambda x: f\"${x:,.0f}\")\n",
    "spend_per_dept.head(10)"
   ]
  },
  {
   "cell_type": "markdown",
   "id": "clear-planet",
   "metadata": {},
   "source": [
    "- About $66\\%$ of the spending comes from the Department of Health Care Services totaling around $\\$100$ Billion. This amount is spent accros $2862$ purchases\n",
    "- Departments of Public Health and Social Services are distant second and third, \n",
    "each of them spending about $3.7\\%$ of the total.\n"
   ]
  },
  {
   "cell_type": "markdown",
   "id": "civil-sound",
   "metadata": {
    "slideshow": {
     "slide_type": "slide"
    }
   },
   "source": [
    "## Q7. Which zip code has the most supplier concentration? Any idea why?"
   ]
  },
  {
   "cell_type": "code",
   "execution_count": 176,
   "id": "infrared-feature",
   "metadata": {
    "slideshow": {
     "slide_type": "subslide"
    }
   },
   "outputs": [
    {
     "data": {
      "text/plain": [
       "95691         11095\n",
       "95814         10921\n",
       "95696          8518\n",
       "95827          7159\n",
       "95841          7008\n",
       "              ...  \n",
       "55403             1\n",
       "33160             1\n",
       "33178             1\n",
       "30604             1\n",
       "72217-7703        1\n",
       "Name: Supplier Zip Code, Length: 3993, dtype: int64"
      ]
     },
     "execution_count": 176,
     "metadata": {},
     "output_type": "execute_result"
    }
   ],
   "source": [
    "supplier_count = df[\"Supplier Zip Code\"].value_counts()\n",
    "supplier_count"
   ]
  },
  {
   "cell_type": "markdown",
   "id": "cheap-committee",
   "metadata": {
    "slideshow": {
     "slide_type": "subslide"
    }
   },
   "source": [
    "Zip Code 95691 has the most supplier concentration with around $4\\%$ of the purchases originating from that zip code."
   ]
  },
  {
   "cell_type": "markdown",
   "id": "pregnant-poetry",
   "metadata": {
    "slideshow": {
     "slide_type": "subslide"
    }
   },
   "source": [
    "#### 1. Which suppliers are located in zip code 95691?"
   ]
  },
  {
   "cell_type": "code",
   "execution_count": 178,
   "id": "stainless-providence",
   "metadata": {
    "collapsed": true,
    "jupyter": {
     "outputs_hidden": true
    },
    "scrolled": true,
    "slideshow": {
     "slide_type": "subslide"
    },
    "tags": []
   },
   "outputs": [
    {
     "data": {
      "text/plain": [
       "Grainger Industrial Supply    9441\n",
       "MMG Technology Group Inc       310\n",
       "Paper Distributors Inc         219\n",
       "NOR CAL PERFORMANCE            135\n",
       "ANCHOR SUPPLY                  105\n",
       "                              ... \n",
       "FITGUARD INC                     1\n",
       "Bullet Guard Corporation         1\n",
       "Triton Tower, Inc.               1\n",
       "Barajas Landscape                1\n",
       "E Z OFFICE SUPPLY                1\n",
       "Name: Supplier Name, Length: 93, dtype: int64"
      ]
     },
     "execution_count": 178,
     "metadata": {},
     "output_type": "execute_result"
    }
   ],
   "source": [
    "df.loc[df[\"Supplier Zip Code\"] == '95691', \"Supplier Name\"].value_counts()"
   ]
  },
  {
   "cell_type": "markdown",
   "id": "impaired-confusion",
   "metadata": {},
   "source": [
    "Out of 11095 purchases made from suppliers in zip code 95691, 9441 (about 85%) of the purchases are made from Grainger Industrial Supply\n",
    "\n",
    "Zip code 95691 has the highest supplier concentration not because it has exceptionally many suppliers in it but because a large number of purchases have been made from a single supplier in that zip code"
   ]
  },
  {
   "cell_type": "markdown",
   "id": "split-talent",
   "metadata": {},
   "source": [
    "#### 2. What are the acquisition methods used to buy from Grainger Industrial Supply?"
   ]
  },
  {
   "cell_type": "code",
   "execution_count": 182,
   "id": "immediate-sugar",
   "metadata": {
    "slideshow": {
     "slide_type": "subslide"
    }
   },
   "outputs": [
    {
     "data": {
      "text/plain": [
       "WSCA/Coop                                     9267\n",
       "Informal Competitive                           105\n",
       "Fair and Reasonable                             62\n",
       "SB/DVBE Option                                   2\n",
       "Formal Competitive                               2\n",
       "State Programs                                   1\n",
       "NCB                                              1\n",
       "Services are specifically exempt by policy       1\n",
       "Name: Acquisition Method, dtype: int64"
      ]
     },
     "execution_count": 182,
     "metadata": {},
     "output_type": "execute_result"
    }
   ],
   "source": [
    "df.loc[df[\"Supplier Name\"] == \"Grainger Industrial Supply\", \"Acquisition Method\"].value_counts()"
   ]
  },
  {
   "cell_type": "markdown",
   "id": "hired-titanium",
   "metadata": {
    "slideshow": {
     "slide_type": "notes"
    }
   },
   "source": [
    "9267 (more than 98%) of the purchases made from *Grainger Industrial Supply* are made using the *WSCA/Coop* Acquisition Method."
   ]
  },
  {
   "cell_type": "markdown",
   "id": "phantom-midnight",
   "metadata": {
    "slideshow": {
     "slide_type": "slide"
    }
   },
   "source": [
    "## Q8. What are the top UNSPSC categories? (i.e. 2nd level \"Family\" UNSPSC categories)"
   ]
  },
  {
   "cell_type": "markdown",
   "id": "active-anchor",
   "metadata": {},
   "source": [
    ">**Assumptions**:\n",
    "> 1. I assume that \"UNSPSC categories\" corresponds to the \"Family Title\" column\n",
    "> 2. Since it is not explicitly mentioned, I assumed that \"top\" refers to the highest number of purchases instead of total amount."
   ]
  },
  {
   "cell_type": "code",
   "execution_count": 183,
   "id": "brief-nowhere",
   "metadata": {
    "slideshow": {
     "slide_type": "subslide"
    }
   },
   "outputs": [
    {
     "data": {
      "text/html": [
       "<div>\n",
       "<style scoped>\n",
       "    .dataframe tbody tr th:only-of-type {\n",
       "        vertical-align: middle;\n",
       "    }\n",
       "\n",
       "    .dataframe tbody tr th {\n",
       "        vertical-align: top;\n",
       "    }\n",
       "\n",
       "    .dataframe thead th {\n",
       "        text-align: right;\n",
       "    }\n",
       "</style>\n",
       "<table border=\"1\" class=\"dataframe\">\n",
       "  <thead>\n",
       "    <tr style=\"text-align: right;\">\n",
       "      <th></th>\n",
       "      <th>Family Title</th>\n",
       "      <th>count</th>\n",
       "      <th>total_spend</th>\n",
       "    </tr>\n",
       "  </thead>\n",
       "  <tbody>\n",
       "    <tr>\n",
       "      <th>265</th>\n",
       "      <td>Office machines and their supplies and accesso...</td>\n",
       "      <td>16479</td>\n",
       "      <td>$88,940,549</td>\n",
       "    </tr>\n",
       "    <tr>\n",
       "      <th>150</th>\n",
       "      <td>Fuels</td>\n",
       "      <td>14599</td>\n",
       "      <td>$288,534,768</td>\n",
       "    </tr>\n",
       "    <tr>\n",
       "      <th>59</th>\n",
       "      <td>Computer services</td>\n",
       "      <td>13946</td>\n",
       "      <td>$1,547,035,757</td>\n",
       "    </tr>\n",
       "    <tr>\n",
       "      <th>58</th>\n",
       "      <td>Computer Equipment and Accessories</td>\n",
       "      <td>13851</td>\n",
       "      <td>$273,810,522</td>\n",
       "    </tr>\n",
       "    <tr>\n",
       "      <th>285</th>\n",
       "      <td>Paper products</td>\n",
       "      <td>10772</td>\n",
       "      <td>$117,600,163</td>\n",
       "    </tr>\n",
       "    <tr>\n",
       "      <th>394</th>\n",
       "      <td>Vocational training</td>\n",
       "      <td>9785</td>\n",
       "      <td>$1,859,963,869</td>\n",
       "    </tr>\n",
       "    <tr>\n",
       "      <th>266</th>\n",
       "      <td>Office supplies</td>\n",
       "      <td>9342</td>\n",
       "      <td>$31,120,654</td>\n",
       "    </tr>\n",
       "    <tr>\n",
       "      <th>358</th>\n",
       "      <td>Software</td>\n",
       "      <td>8274</td>\n",
       "      <td>$1,255,535,652</td>\n",
       "    </tr>\n",
       "    <tr>\n",
       "      <th>335</th>\n",
       "      <td>Refuse disposal and treatment</td>\n",
       "      <td>5433</td>\n",
       "      <td>$155,610,528</td>\n",
       "    </tr>\n",
       "    <tr>\n",
       "      <th>0</th>\n",
       "      <td>Accommodation furniture</td>\n",
       "      <td>5177</td>\n",
       "      <td>$80,508,132</td>\n",
       "    </tr>\n",
       "  </tbody>\n",
       "</table>\n",
       "</div>"
      ],
      "text/plain": [
       "                                          Family Title  count     total_spend\n",
       "265  Office machines and their supplies and accesso...  16479     $88,940,549\n",
       "150                                              Fuels  14599    $288,534,768\n",
       "59                                   Computer services  13946  $1,547,035,757\n",
       "58                  Computer Equipment and Accessories  13851    $273,810,522\n",
       "285                                     Paper products  10772    $117,600,163\n",
       "394                                Vocational training   9785  $1,859,963,869\n",
       "266                                    Office supplies   9342     $31,120,654\n",
       "358                                           Software   8274  $1,255,535,652\n",
       "335                      Refuse disposal and treatment   5433    $155,610,528\n",
       "0                              Accommodation furniture   5177     $80,508,132"
      ]
     },
     "execution_count": 183,
     "metadata": {},
     "output_type": "execute_result"
    }
   ],
   "source": [
    "top_unspsc = df.groupby(\"Family Title\", as_index=False)\\\n",
    "    .agg(count=(\"Family Title\", \"count\"), total_spend=(\"Total Price Numeric\", \"sum\"))\\\n",
    "    .sort_values([\"count\", \"total_spend\"], ascending=False)\n",
    "top_unspsc[\"total_spend\"] = top_unspsc[\"total_spend\"].apply(lambda x: f\"${x:,.0f}\")\n",
    "top_unspsc.head(10)"
   ]
  },
  {
   "cell_type": "markdown",
   "id": "reverse-branch",
   "metadata": {
    "slideshow": {
     "slide_type": "skip"
    }
   },
   "source": [
    "## Q9. Can you prepare a visual for one of the above quantifications you think may be better represented visually?\n",
    "\n",
    "- **Purchase order spend trend over time** is better represented using a line plot along with a trend line see the answer for [Q5](#Q5.-How-has-Purchase-Order-spend-been-trending-over-time?)\n",
    "- **Price distribution** is also better represented using histograms or box plots instead of summary tables, see [Q4](#Q4.-What-are-the-most-expensive-parts?-What-is-the-price-distribution?)"
   ]
  },
  {
   "cell_type": "markdown",
   "id": "precise-crown",
   "metadata": {
    "slideshow": {
     "slide_type": "skip"
    }
   },
   "source": [
    "## Q10. If you could spend another day cleaning up the data to make it more useful what might you do?\n",
    "\n",
    "Columns like the Classification Code and Location include the new line character (\"\\n\") to separate a list of values. If those columns are to be analyzed, we need to remove the new line character and extract the actual values"
   ]
  },
  {
   "cell_type": "markdown",
   "id": "alike-scout",
   "metadata": {
    "slideshow": {
     "slide_type": "skip"
    }
   },
   "source": [
    "## Q11. If you could find another data set that would complement this one to help answer the above or similar questions, what dataset might be ideal?"
   ]
  },
  {
   "cell_type": "code",
   "execution_count": null,
   "id": "capable-theory",
   "metadata": {},
   "outputs": [],
   "source": []
  }
 ],
 "metadata": {
  "kernelspec": {
   "display_name": "Python 3",
   "language": "python",
   "name": "python3"
  },
  "language_info": {
   "codemirror_mode": {
    "name": "ipython",
    "version": 3
   },
   "file_extension": ".py",
   "mimetype": "text/x-python",
   "name": "python",
   "nbconvert_exporter": "python",
   "pygments_lexer": "ipython3",
   "version": "3.7.0"
  },
  "toc-autonumbering": false,
  "toc-showcode": false,
  "toc-showmarkdowntxt": false,
  "toc-showtags": false
 },
 "nbformat": 4,
 "nbformat_minor": 5
}
