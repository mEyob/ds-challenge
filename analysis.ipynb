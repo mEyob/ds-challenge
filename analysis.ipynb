{
 "cells": [
  {
   "cell_type": "code",
   "execution_count": 1,
   "id": "fundamental-thomas",
   "metadata": {
    "slideshow": {
     "slide_type": "skip"
    }
   },
   "outputs": [],
   "source": [
    "import pandas as pd\n",
    "import numpy as np\n",
    "import matplotlib.pyplot as plt\n",
    "import seaborn as sns\n",
    "import matplotlib.ticker as ticker\n",
    "from prepare_data import to_float"
   ]
  },
  {
   "cell_type": "code",
   "execution_count": 2,
   "id": "fuzzy-chapter",
   "metadata": {
    "slideshow": {
     "slide_type": "skip"
    }
   },
   "outputs": [],
   "source": [
    "## Controlling plot aesthetics\n",
    "plt.style.use('ggplot')\n",
    "plt.rcParams['grid.linestyle'] = '-.'\n",
    "plt.rcParams['lines.linewidth'] = 1\n",
    "plt.rcParams['axes.grid'] = True\n",
    "plt.rcParams['font.size'] = 12\n",
    "plt.rcParams['figure.facecolor'] = 'white'\n",
    "plt.rcParams['patch.facecolor'] = 'white';"
   ]
  },
  {
   "cell_type": "code",
   "execution_count": 3,
   "id": "architectural-charles",
   "metadata": {
    "slideshow": {
     "slide_type": "skip"
    }
   },
   "outputs": [],
   "source": [
    "df = pd.read_csv(\"data/California Purchases/PURCHASE ORDER DATA EXTRACT 2012-2015_0.csv\")"
   ]
  },
  {
   "cell_type": "markdown",
   "id": "objective-journalist",
   "metadata": {
    "slideshow": {
     "slide_type": "skip"
    }
   },
   "source": [
    "#### 0. Exploration"
   ]
  },
  {
   "cell_type": "code",
   "execution_count": 4,
   "id": "attached-allocation",
   "metadata": {
    "slideshow": {
     "slide_type": "skip"
    }
   },
   "outputs": [],
   "source": [
    "pd.set_option(\"display.max_columns\", 50)"
   ]
  },
  {
   "cell_type": "code",
   "execution_count": 5,
   "id": "returning-slovakia",
   "metadata": {
    "slideshow": {
     "slide_type": "skip"
    }
   },
   "outputs": [
    {
     "data": {
      "text/html": [
       "<div>\n",
       "<style scoped>\n",
       "    .dataframe tbody tr th:only-of-type {\n",
       "        vertical-align: middle;\n",
       "    }\n",
       "\n",
       "    .dataframe tbody tr th {\n",
       "        vertical-align: top;\n",
       "    }\n",
       "\n",
       "    .dataframe thead th {\n",
       "        text-align: right;\n",
       "    }\n",
       "</style>\n",
       "<table border=\"1\" class=\"dataframe\">\n",
       "  <thead>\n",
       "    <tr style=\"text-align: right;\">\n",
       "      <th></th>\n",
       "      <th>Creation Date</th>\n",
       "      <th>Purchase Date</th>\n",
       "      <th>Fiscal Year</th>\n",
       "      <th>LPA Number</th>\n",
       "      <th>Purchase Order Number</th>\n",
       "      <th>Requisition Number</th>\n",
       "      <th>Acquisition Type</th>\n",
       "      <th>Sub-Acquisition Type</th>\n",
       "      <th>Acquisition Method</th>\n",
       "      <th>Sub-Acquisition Method</th>\n",
       "      <th>Department Name</th>\n",
       "      <th>Supplier Code</th>\n",
       "      <th>Supplier Name</th>\n",
       "      <th>Supplier Qualifications</th>\n",
       "      <th>Supplier Zip Code</th>\n",
       "      <th>CalCard</th>\n",
       "      <th>Item Name</th>\n",
       "      <th>Item Description</th>\n",
       "      <th>Quantity</th>\n",
       "      <th>Unit Price</th>\n",
       "      <th>Total Price</th>\n",
       "      <th>Classification Codes</th>\n",
       "      <th>Normalized UNSPSC</th>\n",
       "      <th>Commodity Title</th>\n",
       "      <th>Class</th>\n",
       "      <th>Class Title</th>\n",
       "      <th>Family</th>\n",
       "      <th>Family Title</th>\n",
       "      <th>Segment</th>\n",
       "      <th>Segment Title</th>\n",
       "      <th>Location</th>\n",
       "    </tr>\n",
       "  </thead>\n",
       "  <tbody>\n",
       "    <tr>\n",
       "      <th>71822</th>\n",
       "      <td>09/04/2013</td>\n",
       "      <td>08/30/2013</td>\n",
       "      <td>2013-2014</td>\n",
       "      <td>NaN</td>\n",
       "      <td>0252-2013</td>\n",
       "      <td>NaN</td>\n",
       "      <td>NON-IT Goods</td>\n",
       "      <td>NaN</td>\n",
       "      <td>SB/DVBE Option</td>\n",
       "      <td>NaN</td>\n",
       "      <td>California Emergency Management Agency</td>\n",
       "      <td>1037847.0</td>\n",
       "      <td>Sandy's Communications</td>\n",
       "      <td>CA-MB CA-SB CA-SBE</td>\n",
       "      <td>91395</td>\n",
       "      <td>NO</td>\n",
       "      <td>MOUNTING PIPE</td>\n",
       "      <td>.</td>\n",
       "      <td>1.0</td>\n",
       "      <td>$465.00</td>\n",
       "      <td>$465.00</td>\n",
       "      <td>43221705</td>\n",
       "      <td>43221705.0</td>\n",
       "      <td>Radio access equipment</td>\n",
       "      <td>43221700.0</td>\n",
       "      <td>Fixed network equipment and components</td>\n",
       "      <td>43220000.0</td>\n",
       "      <td>Data Voice or Multimedia Network Equipment or ...</td>\n",
       "      <td>43000000.0</td>\n",
       "      <td>Information Technology Broadcasting and Teleco...</td>\n",
       "      <td>91395\\n(34.257198, -118.466103)</td>\n",
       "    </tr>\n",
       "    <tr>\n",
       "      <th>320291</th>\n",
       "      <td>07/02/2012</td>\n",
       "      <td>07/01/2012</td>\n",
       "      <td>2012-2013</td>\n",
       "      <td>1-11-89-58</td>\n",
       "      <td>4500141640</td>\n",
       "      <td>NaN</td>\n",
       "      <td>NON-IT Goods</td>\n",
       "      <td>NaN</td>\n",
       "      <td>Statewide Contract</td>\n",
       "      <td>NaN</td>\n",
       "      <td>Corrections and Rehabilitation, Department of</td>\n",
       "      <td>1729526.0</td>\n",
       "      <td>ABC Ventures LLC</td>\n",
       "      <td>CA-SB</td>\n",
       "      <td>94583</td>\n",
       "      <td>NO</td>\n",
       "      <td>RICE, WHITE</td>\n",
       "      <td>RICE, WHITE</td>\n",
       "      <td>150.0</td>\n",
       "      <td>$21.15</td>\n",
       "      <td>$3172.50</td>\n",
       "      <td>50192603</td>\n",
       "      <td>50192603.0</td>\n",
       "      <td>Shelf stable prepared potatoes or rice or past...</td>\n",
       "      <td>50192600.0</td>\n",
       "      <td>Prepared side dishes</td>\n",
       "      <td>50190000.0</td>\n",
       "      <td>Prepared and preserved foods</td>\n",
       "      <td>50000000.0</td>\n",
       "      <td>Food Beverage and Tobacco Products</td>\n",
       "      <td>94583\\n(37.755754, -121.963415)</td>\n",
       "    </tr>\n",
       "    <tr>\n",
       "      <th>218761</th>\n",
       "      <td>07/12/2012</td>\n",
       "      <td>05/16/2012</td>\n",
       "      <td>2012-2013</td>\n",
       "      <td>NaN</td>\n",
       "      <td>HSR09-09 #1</td>\n",
       "      <td>NaN</td>\n",
       "      <td>NON-IT Services</td>\n",
       "      <td>Consulting Services</td>\n",
       "      <td>Formal Competitive</td>\n",
       "      <td>NaN</td>\n",
       "      <td>High Speed Rail Authority, California</td>\n",
       "      <td>1040238.0</td>\n",
       "      <td>T.Y. Lin International</td>\n",
       "      <td>NaN</td>\n",
       "      <td>94105</td>\n",
       "      <td>NO</td>\n",
       "      <td>Oversight of the PMT's work as it relates to t...</td>\n",
       "      <td>The Consultant will provide high level service...</td>\n",
       "      <td>1.0</td>\n",
       "      <td>$10000000.00</td>\n",
       "      <td>$10000000.00</td>\n",
       "      <td>80101601\\n80101604\\n80101603\\n80101602</td>\n",
       "      <td>80101601.0</td>\n",
       "      <td>Feasibility studies or screening of project ideas</td>\n",
       "      <td>80101600.0</td>\n",
       "      <td>Project management</td>\n",
       "      <td>80100000.0</td>\n",
       "      <td>Management advisory services</td>\n",
       "      <td>80000000.0</td>\n",
       "      <td>Management and Business Professionals and Admi...</td>\n",
       "      <td>94105\\n(37.788667, -122.394444)</td>\n",
       "    </tr>\n",
       "    <tr>\n",
       "      <th>76379</th>\n",
       "      <td>10/22/2013</td>\n",
       "      <td>10/16/2013</td>\n",
       "      <td>2013-2014</td>\n",
       "      <td>NaN</td>\n",
       "      <td>13-10085</td>\n",
       "      <td>NaN</td>\n",
       "      <td>NON-IT Services</td>\n",
       "      <td>Emergency Contract</td>\n",
       "      <td>Emergency Purchase</td>\n",
       "      <td>NaN</td>\n",
       "      <td>State Hospitals, Department of</td>\n",
       "      <td>1758332.0</td>\n",
       "      <td>Affiliated Pathologists of the Central Coast</td>\n",
       "      <td>NaN</td>\n",
       "      <td>NaN</td>\n",
       "      <td>NO</td>\n",
       "      <td>Emergency Physician Services</td>\n",
       "      <td>Contractor performed emergency surgical pathol...</td>\n",
       "      <td>1.0</td>\n",
       "      <td>$163.59</td>\n",
       "      <td>$163.59</td>\n",
       "      <td>85121609</td>\n",
       "      <td>85121609.0</td>\n",
       "      <td>Surgery services</td>\n",
       "      <td>85121600.0</td>\n",
       "      <td>Medical doctors specialist services</td>\n",
       "      <td>85120000.0</td>\n",
       "      <td>Medical practice</td>\n",
       "      <td>85000000.0</td>\n",
       "      <td>Healthcare Services</td>\n",
       "      <td>NaN</td>\n",
       "    </tr>\n",
       "    <tr>\n",
       "      <th>32661</th>\n",
       "      <td>01/08/2013</td>\n",
       "      <td>01/01/2011</td>\n",
       "      <td>2012-2013</td>\n",
       "      <td>NaN</td>\n",
       "      <td>11B-5721</td>\n",
       "      <td>NaN</td>\n",
       "      <td>NON-IT Services</td>\n",
       "      <td>Subvention and Local Assistance</td>\n",
       "      <td>Services are specifically exempt by statute</td>\n",
       "      <td>NaN</td>\n",
       "      <td>Community Services and Development, Department of</td>\n",
       "      <td>1122503.0</td>\n",
       "      <td>Community Action Partnership of Madera County,...</td>\n",
       "      <td>NaN</td>\n",
       "      <td>93637</td>\n",
       "      <td>NO</td>\n",
       "      <td>Low Income Home Energy Assistance Program</td>\n",
       "      <td>Contractor agrees to provide Low-Income Home E...</td>\n",
       "      <td>1.0</td>\n",
       "      <td>$305520.00</td>\n",
       "      <td>$305520.00</td>\n",
       "      <td>83101902</td>\n",
       "      <td>83101902.0</td>\n",
       "      <td>Energy use reduction measures</td>\n",
       "      <td>83101900.0</td>\n",
       "      <td>Energy conservation</td>\n",
       "      <td>83100000.0</td>\n",
       "      <td>Utilities</td>\n",
       "      <td>83000000.0</td>\n",
       "      <td>Public Utilities and Public Sector Related Ser...</td>\n",
       "      <td>93637\\n(36.924059, -120.128145)</td>\n",
       "    </tr>\n",
       "  </tbody>\n",
       "</table>\n",
       "</div>"
      ],
      "text/plain": [
       "       Creation Date Purchase Date Fiscal Year  LPA Number  \\\n",
       "71822     09/04/2013    08/30/2013   2013-2014         NaN   \n",
       "320291    07/02/2012    07/01/2012   2012-2013  1-11-89-58   \n",
       "218761    07/12/2012    05/16/2012   2012-2013         NaN   \n",
       "76379     10/22/2013    10/16/2013   2013-2014         NaN   \n",
       "32661     01/08/2013    01/01/2011   2012-2013         NaN   \n",
       "\n",
       "       Purchase Order Number Requisition Number Acquisition Type  \\\n",
       "71822              0252-2013                NaN     NON-IT Goods   \n",
       "320291            4500141640                NaN     NON-IT Goods   \n",
       "218761           HSR09-09 #1                NaN  NON-IT Services   \n",
       "76379               13-10085                NaN  NON-IT Services   \n",
       "32661               11B-5721                NaN  NON-IT Services   \n",
       "\n",
       "                   Sub-Acquisition Type  \\\n",
       "71822                               NaN   \n",
       "320291                              NaN   \n",
       "218761              Consulting Services   \n",
       "76379                Emergency Contract   \n",
       "32661   Subvention and Local Assistance   \n",
       "\n",
       "                                 Acquisition Method Sub-Acquisition Method  \\\n",
       "71822                                SB/DVBE Option                    NaN   \n",
       "320291                           Statewide Contract                    NaN   \n",
       "218761                           Formal Competitive                    NaN   \n",
       "76379                            Emergency Purchase                    NaN   \n",
       "32661   Services are specifically exempt by statute                    NaN   \n",
       "\n",
       "                                          Department Name  Supplier Code  \\\n",
       "71822              California Emergency Management Agency      1037847.0   \n",
       "320291      Corrections and Rehabilitation, Department of      1729526.0   \n",
       "218761              High Speed Rail Authority, California      1040238.0   \n",
       "76379                      State Hospitals, Department of      1758332.0   \n",
       "32661   Community Services and Development, Department of      1122503.0   \n",
       "\n",
       "                                            Supplier Name  \\\n",
       "71822                              Sandy's Communications   \n",
       "320291                                   ABC Ventures LLC   \n",
       "218761                             T.Y. Lin International   \n",
       "76379        Affiliated Pathologists of the Central Coast   \n",
       "32661   Community Action Partnership of Madera County,...   \n",
       "\n",
       "       Supplier Qualifications Supplier Zip Code CalCard  \\\n",
       "71822       CA-MB CA-SB CA-SBE             91395      NO   \n",
       "320291                   CA-SB             94583      NO   \n",
       "218761                     NaN             94105      NO   \n",
       "76379                      NaN               NaN      NO   \n",
       "32661                      NaN             93637      NO   \n",
       "\n",
       "                                                Item Name  \\\n",
       "71822                                       MOUNTING PIPE   \n",
       "320291                                        RICE, WHITE   \n",
       "218761  Oversight of the PMT's work as it relates to t...   \n",
       "76379                        Emergency Physician Services   \n",
       "32661           Low Income Home Energy Assistance Program   \n",
       "\n",
       "                                         Item Description  Quantity  \\\n",
       "71822                                                   .       1.0   \n",
       "320291                                        RICE, WHITE     150.0   \n",
       "218761  The Consultant will provide high level service...       1.0   \n",
       "76379   Contractor performed emergency surgical pathol...       1.0   \n",
       "32661   Contractor agrees to provide Low-Income Home E...       1.0   \n",
       "\n",
       "          Unit Price   Total Price                    Classification Codes  \\\n",
       "71822        $465.00       $465.00                                43221705   \n",
       "320291        $21.15      $3172.50                                50192603   \n",
       "218761  $10000000.00  $10000000.00  80101601\\n80101604\\n80101603\\n80101602   \n",
       "76379        $163.59       $163.59                                85121609   \n",
       "32661     $305520.00    $305520.00                                83101902   \n",
       "\n",
       "        Normalized UNSPSC                                    Commodity Title  \\\n",
       "71822          43221705.0                             Radio access equipment   \n",
       "320291         50192603.0  Shelf stable prepared potatoes or rice or past...   \n",
       "218761         80101601.0  Feasibility studies or screening of project ideas   \n",
       "76379          85121609.0                                   Surgery services   \n",
       "32661          83101902.0                      Energy use reduction measures   \n",
       "\n",
       "             Class                             Class Title      Family  \\\n",
       "71822   43221700.0  Fixed network equipment and components  43220000.0   \n",
       "320291  50192600.0                    Prepared side dishes  50190000.0   \n",
       "218761  80101600.0                      Project management  80100000.0   \n",
       "76379   85121600.0     Medical doctors specialist services  85120000.0   \n",
       "32661   83101900.0                     Energy conservation  83100000.0   \n",
       "\n",
       "                                             Family Title     Segment  \\\n",
       "71822   Data Voice or Multimedia Network Equipment or ...  43000000.0   \n",
       "320291                       Prepared and preserved foods  50000000.0   \n",
       "218761                       Management advisory services  80000000.0   \n",
       "76379                                    Medical practice  85000000.0   \n",
       "32661                                           Utilities  83000000.0   \n",
       "\n",
       "                                            Segment Title  \\\n",
       "71822   Information Technology Broadcasting and Teleco...   \n",
       "320291                 Food Beverage and Tobacco Products   \n",
       "218761  Management and Business Professionals and Admi...   \n",
       "76379                                 Healthcare Services   \n",
       "32661   Public Utilities and Public Sector Related Ser...   \n",
       "\n",
       "                               Location  \n",
       "71822   91395\\n(34.257198, -118.466103)  \n",
       "320291  94583\\n(37.755754, -121.963415)  \n",
       "218761  94105\\n(37.788667, -122.394444)  \n",
       "76379                               NaN  \n",
       "32661   93637\\n(36.924059, -120.128145)  "
      ]
     },
     "execution_count": 5,
     "metadata": {},
     "output_type": "execute_result"
    }
   ],
   "source": [
    "df.sample(5)"
   ]
  },
  {
   "cell_type": "markdown",
   "id": "secret-payroll",
   "metadata": {
    "slideshow": {
     "slide_type": "slide"
    }
   },
   "source": [
    "#### Q1. What is the structure of the data in the data set?"
   ]
  },
  {
   "cell_type": "markdown",
   "id": "dedicated-journalism",
   "metadata": {
    "slideshow": {
     "slide_type": "subslide"
    }
   },
   "source": [
    "The dataset contains California state's purchase orders.\n",
    "- It contains $346018$ rows (purchase orders) and $31$ columns. \n",
    "- The datatypes of all columns, as inferred by Pandas, is either object or float64.\n",
    "- Some of the inferred datatypes (e.g. for *Unit Price* and *Total Price* columns) are incorrect, so the corresponding columns need to be corrected before we can start analyzing the data."
   ]
  },
  {
   "cell_type": "code",
   "execution_count": 6,
   "id": "stock-adventure",
   "metadata": {
    "slideshow": {
     "slide_type": "subslide"
    }
   },
   "outputs": [
    {
     "data": {
      "text/plain": [
       "(346018, 31)"
      ]
     },
     "execution_count": 6,
     "metadata": {},
     "output_type": "execute_result"
    }
   ],
   "source": [
    "df.shape"
   ]
  },
  {
   "cell_type": "code",
   "execution_count": 7,
   "id": "decimal-wireless",
   "metadata": {
    "slideshow": {
     "slide_type": "subslide"
    }
   },
   "outputs": [
    {
     "data": {
      "text/plain": [
       "Index(['Creation Date', 'Purchase Date', 'Fiscal Year', 'LPA Number',\n",
       "       'Purchase Order Number', 'Requisition Number', 'Acquisition Type',\n",
       "       'Sub-Acquisition Type', 'Acquisition Method', 'Sub-Acquisition Method',\n",
       "       'Department Name', 'Supplier Code', 'Supplier Name',\n",
       "       'Supplier Qualifications', 'Supplier Zip Code', 'CalCard', 'Item Name',\n",
       "       'Item Description', 'Quantity', 'Unit Price', 'Total Price',\n",
       "       'Classification Codes', 'Normalized UNSPSC', 'Commodity Title', 'Class',\n",
       "       'Class Title', 'Family', 'Family Title', 'Segment', 'Segment Title',\n",
       "       'Location'],\n",
       "      dtype='object')"
      ]
     },
     "execution_count": 7,
     "metadata": {},
     "output_type": "execute_result"
    }
   ],
   "source": [
    "df.columns"
   ]
  },
  {
   "cell_type": "code",
   "execution_count": 8,
   "id": "innocent-commitment",
   "metadata": {
    "slideshow": {
     "slide_type": "subslide"
    }
   },
   "outputs": [
    {
     "data": {
      "text/plain": [
       "Creation Date               object\n",
       "Purchase Date               object\n",
       "Fiscal Year                 object\n",
       "LPA Number                  object\n",
       "Purchase Order Number       object\n",
       "Requisition Number          object\n",
       "Acquisition Type            object\n",
       "Sub-Acquisition Type        object\n",
       "Acquisition Method          object\n",
       "Sub-Acquisition Method      object\n",
       "Department Name             object\n",
       "Supplier Code              float64\n",
       "Supplier Name               object\n",
       "Supplier Qualifications     object\n",
       "Supplier Zip Code           object\n",
       "CalCard                     object\n",
       "Item Name                   object\n",
       "Item Description            object\n",
       "Quantity                   float64\n",
       "Unit Price                  object\n",
       "Total Price                 object\n",
       "Classification Codes        object\n",
       "Normalized UNSPSC          float64\n",
       "Commodity Title             object\n",
       "Class                      float64\n",
       "Class Title                 object\n",
       "Family                     float64\n",
       "Family Title                object\n",
       "Segment                    float64\n",
       "Segment Title               object\n",
       "Location                    object\n",
       "dtype: object"
      ]
     },
     "execution_count": 8,
     "metadata": {},
     "output_type": "execute_result"
    }
   ],
   "source": [
    "df.dtypes"
   ]
  },
  {
   "cell_type": "code",
   "execution_count": 9,
   "id": "heard-tunnel",
   "metadata": {
    "slideshow": {
     "slide_type": "skip"
    }
   },
   "outputs": [],
   "source": [
    "df[\"Total Price Numeric\"] = df[\"Total Price\"].apply(to_float)"
   ]
  },
  {
   "cell_type": "code",
   "execution_count": 10,
   "id": "regional-questionnaire",
   "metadata": {
    "slideshow": {
     "slide_type": "skip"
    }
   },
   "outputs": [],
   "source": [
    "df[\"Unit Price Numeric\"] = df[\"Unit Price\"].apply(to_float)"
   ]
  },
  {
   "cell_type": "markdown",
   "id": "pharmaceutical-fundamental",
   "metadata": {
    "slideshow": {
     "slide_type": "slide"
    }
   },
   "source": [
    "#### Q2. Do any columns in the data set make the most sense to be encoded into labels for better statistical analysis?"
   ]
  },
  {
   "cell_type": "markdown",
   "id": "lasting-research",
   "metadata": {
    "slideshow": {
     "slide_type": "subslide"
    }
   },
   "source": [
    "Number of unique values in the acquisition-related nominal columns:\n",
    "- Acquisition Type -> $5$\n",
    "- Acquisition Method -> $20$\n",
    "- Sub-Acquisition Method -> $17$"
   ]
  },
  {
   "cell_type": "code",
   "execution_count": 11,
   "id": "recorded-privilege",
   "metadata": {
    "slideshow": {
     "slide_type": "skip"
    }
   },
   "outputs": [
    {
     "data": {
      "text/plain": [
       "array(['IT Goods', 'NON-IT Goods', 'IT Services', 'NON-IT Services',\n",
       "       'IT Telecommunications'], dtype=object)"
      ]
     },
     "execution_count": 11,
     "metadata": {},
     "output_type": "execute_result"
    }
   ],
   "source": [
    "df[\"Acquisition Type\"].unique()"
   ]
  },
  {
   "cell_type": "code",
   "execution_count": 12,
   "id": "ambient-hughes",
   "metadata": {
    "slideshow": {
     "slide_type": "subslide"
    }
   },
   "outputs": [
    {
     "name": "stdout",
     "output_type": "stream",
     "text": [
      "(26,)\n"
     ]
    },
    {
     "data": {
      "text/plain": [
       "array([nan, 'Personal Services', 'Legal Services', 'Consulting Services',\n",
       "       'Public Works', 'Interagency Agreements',\n",
       "       'Services are specifically exempt by statute',\n",
       "       'Nonprofit Organizations', 'Memberships', 'Joint Power Agreement',\n",
       "       'Emergency Contract',\n",
       "       'Agreements with other governmental entities and public universities',\n",
       "       'Expert Witneses', 'Subvention and Local Assistance',\n",
       "       'UC, CSU, Community Colleges, and foundations / auxiliaries',\n",
       "       'Elevator Maintenance', 'Convention and Conference Services',\n",
       "       'Architectural and Engineering', 'Printing Services',\n",
       "       'Contracts with Local Governments', 'Contracting for Students',\n",
       "       'Fiscal Intermediaries', 'Federally Funded',\n",
       "       'Hazardous Activities', 'Revenue Agreements',\n",
       "       'Commercial Office Moving Services'], dtype=object)"
      ]
     },
     "execution_count": 12,
     "metadata": {},
     "output_type": "execute_result"
    }
   ],
   "source": [
    "print(df[\"Sub-Acquisition Type\"].unique().shape)\n",
    "df[\"Sub-Acquisition Type\"].unique()"
   ]
  },
  {
   "cell_type": "code",
   "execution_count": 13,
   "id": "ecological-canon",
   "metadata": {
    "slideshow": {
     "slide_type": "subslide"
    }
   },
   "outputs": [
    {
     "name": "stdout",
     "output_type": "stream",
     "text": [
      "(20,)\n"
     ]
    },
    {
     "data": {
      "text/plain": [
       "array(['WSCA/Coop', 'Informal Competitive', 'Statewide Contract',\n",
       "       'Services are specifically exempt by statute', 'SB/DVBE Option',\n",
       "       'NCB', 'Formal Competitive', 'Fair and Reasonable',\n",
       "       'State Programs', 'Services are specifically exempt by policy',\n",
       "       'CMAS', 'LCB', 'Master Purchase/Price Agreement',\n",
       "       'Master Service Agreement', 'Emergency Purchase', 'CRP',\n",
       "       'Software License Program', 'Special Category Request (SCR)',\n",
       "       'Statement of Qualifications', 'State Price Schedule'],\n",
       "      dtype=object)"
      ]
     },
     "execution_count": 13,
     "metadata": {},
     "output_type": "execute_result"
    }
   ],
   "source": [
    "print(df[\"Acquisition Method\"].unique().shape)\n",
    "df[\"Acquisition Method\"].unique()"
   ]
  },
  {
   "cell_type": "code",
   "execution_count": 14,
   "id": "developing-cholesterol",
   "metadata": {
    "slideshow": {
     "slide_type": "skip"
    }
   },
   "outputs": [
    {
     "name": "stdout",
     "output_type": "stream",
     "text": [
      "(17,)\n"
     ]
    },
    {
     "data": {
      "text/plain": [
       "array([nan, 'Other', 'Prison Industry Authority (PIA)',\n",
       "       'Office of State Printing (OSP)',\n",
       "       'Only goods and services that meet needs of the State',\n",
       "       'Services are specifically exempt by statute',\n",
       "       'Emergency acquisition for the protection of the public',\n",
       "       'Contract with other government agency',\n",
       "       'A single firm services a geographic region',\n",
       "       'Interagency Agreement', 'Fleet',\n",
       "       'Transportation Management Unit (TMU)', 'Master Service Agreement',\n",
       "       'Legal defense advice or services by an attorney or staff',\n",
       "       'SB/DVBE Option',\n",
       "       'Subvention contracts with private/non-profit entity/agency',\n",
       "       'Surplus'], dtype=object)"
      ]
     },
     "execution_count": 14,
     "metadata": {},
     "output_type": "execute_result"
    }
   ],
   "source": [
    "print(df[\"Sub-Acquisition Method\"].unique().shape)\n",
    "df[\"Sub-Acquisition Method\"].unique()"
   ]
  },
  {
   "cell_type": "code",
   "execution_count": 15,
   "id": "mental-bruce",
   "metadata": {
    "slideshow": {
     "slide_type": "skip"
    }
   },
   "outputs": [],
   "source": [
    "spend_by_aq_method = df.groupby(\"Acquisition Method\", as_index=False)\\\n",
    "                     .agg(number_of_purchases=(\"Total Price Numeric\", \"count\"), \\\n",
    "                         avg_spend_per_perchase=(\"Total Price Numeric\", \"mean\"),\\\n",
    "                         total_spend=(\"Total Price Numeric\", \"sum\"))\\\n",
    "                     .sort_values(\"total_spend\", ascending=False)"
   ]
  },
  {
   "cell_type": "code",
   "execution_count": 16,
   "id": "outstanding-freight",
   "metadata": {
    "slideshow": {
     "slide_type": "subslide"
    }
   },
   "outputs": [
    {
     "data": {
      "image/png": "[encoded data removed]",
      "text/plain": [
       "<Figure size 432x288 with 1 Axes>"
      ]
     },
     "metadata": {},
     "output_type": "display_data"
    }
   ],
   "source": [
    "barplot = spend_by_aq_method.plot.bar(x=\"Acquisition Method\", y=\"total_spend\")\n",
    "barplot.set_ylabel(\"Total spend (in Billion Dollars)\")\n",
    "\n",
    "scale_y = 1e9\n",
    "ticks_y = ticker.FuncFormatter(lambda x, _: f'{x/scale_y:g}')\n",
    "barplot.yaxis.set_major_formatter(ticks_y)"
   ]
  },
  {
   "cell_type": "markdown",
   "id": "measured-seeker",
   "metadata": {
    "slideshow": {
     "slide_type": "notes"
    }
   },
   "source": [
    "The above plot shows most of the purchases are done under the \"Informal Competitive\", \"Services are specifically exempt by statute\", \"Formal Competitive\", and \"Services are specifically exempt by policy\" acquisition methods respectively.\n",
    "\n",
    "However, the plot looks busy and is hard to read. Encoding the acquisition method makes it cleaner."
   ]
  },
  {
   "cell_type": "code",
   "execution_count": 17,
   "id": "informative-poetry",
   "metadata": {
    "slideshow": {
     "slide_type": "skip"
    }
   },
   "outputs": [],
   "source": [
    "# Encoding Acquistion Method & Acquistion Type\n",
    "df[\"Acquisition Method Encoded\"] = df[\"Acquisition Method\"].astype(\"category\")\n",
    "df[\"Acquisition Method Encoded\"] = df[\"Acquisition Method Encoded\"].cat.codes\n",
    "\n",
    "df[\"Acquisition Type Encoded\"] = df[\"Acquisition Type\"].astype(\"category\")\n",
    "df[\"Acquisition Type Encoded\"] = df[\"Acquisition Type Encoded\"].cat.codes"
   ]
  },
  {
   "cell_type": "code",
   "execution_count": 18,
   "id": "waiting-detection",
   "metadata": {
    "slideshow": {
     "slide_type": "skip"
    }
   },
   "outputs": [],
   "source": [
    "spend_by_aq_method = df.groupby(\"Acquisition Method Encoded\", as_index=False)\\\n",
    "                     .agg(Aq_method=(\"Acquisition Method\", \"unique\"), \n",
    "                          number_of_purchases=(\"Total Price Numeric\", \"count\"), \\\n",
    "                          avg_spend_per_perchase=(\"Total Price Numeric\", \"mean\"),\\\n",
    "                          total_spend=(\"Total Price Numeric\", \"sum\"))\\\n",
    "                     .sort_values(\"total_spend\", ascending=False)"
   ]
  },
  {
   "cell_type": "code",
   "execution_count": 19,
   "id": "permanent-surgery",
   "metadata": {
    "slideshow": {
     "slide_type": "subslide"
    }
   },
   "outputs": [
    {
     "data": {
      "image/png": "[encoded data removed]",
      "text/plain": [
       "<Figure size 432x288 with 1 Axes>"
      ]
     },
     "metadata": {},
     "output_type": "display_data"
    }
   ],
   "source": [
    "barplot = spend_by_aq_method.plot.bar(x=\"Acquisition Method Encoded\", y=\"total_spend\")\n",
    "barplot.set_ylabel(\"Total spend (in Billion Dollars)\")\n",
    "\n",
    "scale_y = 1e9\n",
    "ticks_y = ticker.FuncFormatter(lambda x, _: f'{x/scale_y:g}')\n",
    "barplot.yaxis.set_major_formatter(ticks_y)"
   ]
  },
  {
   "cell_type": "markdown",
   "id": "romantic-source",
   "metadata": {
    "slideshow": {
     "slide_type": "notes"
    }
   },
   "source": [
    "Other columns that may benefit from label encoding:\n",
    "- Acquisition Type\n",
    "- Sub-Acquisition Type\n",
    "- Sub-Acquisition Method"
   ]
  },
  {
   "cell_type": "markdown",
   "id": "embedded-massage",
   "metadata": {
    "slideshow": {
     "slide_type": "slide"
    }
   },
   "source": [
    "#### Q3. Are there any obvious outliers or invalid/empty values in the labeled data set?"
   ]
  },
  {
   "cell_type": "code",
   "execution_count": 20,
   "id": "consolidated-burner",
   "metadata": {
    "slideshow": {
     "slide_type": "subslide"
    }
   },
   "outputs": [
    {
     "data": {
      "text/plain": [
       "Creation Date                      0\n",
       "Purchase Date                  17436\n",
       "Fiscal Year                        0\n",
       "LPA Number                    253673\n",
       "Purchase Order Number              0\n",
       "Requisition Number            331649\n",
       "Acquisition Type                   0\n",
       "Sub-Acquisition Type          277681\n",
       "Acquisition Method                 0\n",
       "Sub-Acquisition Method        315122\n",
       "Department Name                    0\n",
       "Supplier Code                     36\n",
       "Supplier Name                     36\n",
       "Supplier Qualifications       204273\n",
       "Supplier Zip Code              70110\n",
       "CalCard                            0\n",
       "Item Name                         31\n",
       "Item Description                 200\n",
       "Quantity                          30\n",
       "Unit Price                        30\n",
       "Total Price                       30\n",
       "Classification Codes            1017\n",
       "Normalized UNSPSC               1017\n",
       "Commodity Title                 3295\n",
       "Class                           3295\n",
       "Class Title                     3295\n",
       "Family                          3295\n",
       "Family Title                    3295\n",
       "Segment                         3295\n",
       "Segment Title                   3295\n",
       "Location                       70110\n",
       "Total Price Numeric               30\n",
       "Unit Price Numeric                30\n",
       "Acquisition Method Encoded         0\n",
       "Acquisition Type Encoded           0\n",
       "dtype: int64"
      ]
     },
     "execution_count": 20,
     "metadata": {},
     "output_type": "execute_result"
    }
   ],
   "source": [
    "df.isna().sum()"
   ]
  },
  {
   "cell_type": "markdown",
   "id": "collective-round",
   "metadata": {
    "slideshow": {
     "slide_type": "notes"
    }
   },
   "source": [
    "Most of the columns have missing values. Most notably, the *Requisition Number* and *Sub-Acquisition Method* columns have 331649 ($95.8\\%$ of the rows) and 315122 ($91\\%$) missing values"
   ]
  },
  {
   "cell_type": "markdown",
   "id": "postal-provision",
   "metadata": {
    "slideshow": {
     "slide_type": "notes"
    }
   },
   "source": [
    "If we label-encode the *Sub-Acquisition Method* Column, there will be $315122$ **invalid** codes with value $-1$"
   ]
  },
  {
   "cell_type": "code",
   "execution_count": 44,
   "id": "supposed-johnson",
   "metadata": {
    "slideshow": {
     "slide_type": "subslide"
    }
   },
   "outputs": [
    {
     "data": {
      "text/plain": [
       "-1     315122\n",
       " 3      14148\n",
       " 10     11602\n",
       " 8       1810\n",
       " 7        812\n",
       " 4        565\n",
       " 12       521\n",
       " 9        503\n",
       " 2        334\n",
       " 0        328\n",
       " 1        117\n",
       " 11        83\n",
       " 13        28\n",
       " 5         18\n",
       " 6         15\n",
       " 15        10\n",
       " 14         2\n",
       "dtype: int64"
      ]
     },
     "execution_count": 44,
     "metadata": {},
     "output_type": "execute_result"
    }
   ],
   "source": [
    "sub_aq_cat = df[\"Sub-Acquisition Method\"].astype(\"category\")\n",
    "sub_aq_cat.cat.codes.value_counts()\n"
   ]
  },
  {
   "cell_type": "markdown",
   "id": "similar-greeting",
   "metadata": {
    "slideshow": {
     "slide_type": "slide"
    }
   },
   "source": [
    "#### Q4. What are the most expensive parts? What is the price distribution?"
   ]
  },
  {
   "cell_type": "markdown",
   "id": "advisory-copper",
   "metadata": {
    "slideshow": {
     "slide_type": "subslide"
    }
   },
   "source": [
    "The top 10 most expensive items are..."
   ]
  },
  {
   "cell_type": "code",
   "execution_count": 48,
   "id": "separated-catalog",
   "metadata": {
    "slideshow": {
     "slide_type": "subslide"
    }
   },
   "outputs": [
    {
     "data": {
      "text/html": [
       "<div>\n",
       "<style scoped>\n",
       "    .dataframe tbody tr th:only-of-type {\n",
       "        vertical-align: middle;\n",
       "    }\n",
       "\n",
       "    .dataframe tbody tr th {\n",
       "        vertical-align: top;\n",
       "    }\n",
       "\n",
       "    .dataframe thead th {\n",
       "        text-align: right;\n",
       "    }\n",
       "</style>\n",
       "<table border=\"1\" class=\"dataframe\">\n",
       "  <thead>\n",
       "    <tr style=\"text-align: right;\">\n",
       "      <th></th>\n",
       "      <th>Item Name</th>\n",
       "      <th>Unit Price Numeric</th>\n",
       "    </tr>\n",
       "  </thead>\n",
       "  <tbody>\n",
       "    <tr>\n",
       "      <th>8790</th>\n",
       "      <td>Personal Service</td>\n",
       "      <td>$7,337,038,064.0</td>\n",
       "    </tr>\n",
       "    <tr>\n",
       "      <th>304848</th>\n",
       "      <td>04-36069 A10</td>\n",
       "      <td>$3,194,190,000.0</td>\n",
       "    </tr>\n",
       "    <tr>\n",
       "      <th>292165</th>\n",
       "      <td>Direct Service</td>\n",
       "      <td>$3,010,052,803.0</td>\n",
       "    </tr>\n",
       "    <tr>\n",
       "      <th>314966</th>\n",
       "      <td>03-76182 A15</td>\n",
       "      <td>$2,474,118,000.0</td>\n",
       "    </tr>\n",
       "    <tr>\n",
       "      <th>280645</th>\n",
       "      <td>03-76182 A18</td>\n",
       "      <td>$2,253,227,000.0</td>\n",
       "    </tr>\n",
       "    <tr>\n",
       "      <th>48484</th>\n",
       "      <td>11-10019 A02</td>\n",
       "      <td>$2,200,000,000.0</td>\n",
       "    </tr>\n",
       "    <tr>\n",
       "      <th>242591</th>\n",
       "      <td>Direct Service</td>\n",
       "      <td>$1,979,109,000.0</td>\n",
       "    </tr>\n",
       "    <tr>\n",
       "      <th>339157</th>\n",
       "      <td>12-89334</td>\n",
       "      <td>$1,949,122,000.0</td>\n",
       "    </tr>\n",
       "    <tr>\n",
       "      <th>38396</th>\n",
       "      <td>04-35401 A14</td>\n",
       "      <td>$1,948,168,000.0</td>\n",
       "    </tr>\n",
       "    <tr>\n",
       "      <th>212412</th>\n",
       "      <td>04-36069 A09</td>\n",
       "      <td>$1,877,260,000.0</td>\n",
       "    </tr>\n",
       "  </tbody>\n",
       "</table>\n",
       "</div>"
      ],
      "text/plain": [
       "               Item Name Unit Price Numeric\n",
       "8790    Personal Service   $7,337,038,064.0\n",
       "304848      04-36069 A10   $3,194,190,000.0\n",
       "292165    Direct Service   $3,010,052,803.0\n",
       "314966      03-76182 A15   $2,474,118,000.0\n",
       "280645      03-76182 A18   $2,253,227,000.0\n",
       "48484       11-10019 A02   $2,200,000,000.0\n",
       "242591    Direct Service   $1,979,109,000.0\n",
       "339157          12-89334   $1,949,122,000.0\n",
       "38396       04-35401 A14   $1,948,168,000.0\n",
       "212412      04-36069 A09   $1,877,260,000.0"
      ]
     },
     "execution_count": 48,
     "metadata": {},
     "output_type": "execute_result"
    }
   ],
   "source": [
    "top10_expensive = df.loc[df[\"Unit Price\"].notna(), [\"Item Name\", \"Unit Price Numeric\"]]\\\n",
    "  .sort_values(\"Unit Price Numeric\", ascending=False).head(10)\n",
    "top10_expensive[\"Unit Price Numeric\"]=top10_expensive[\"Unit Price Numeric\"].apply(lambda x: f\"${x:,}\")\n",
    "top10_expensive"
   ]
  },
  {
   "cell_type": "code",
   "execution_count": 23,
   "id": "neural-gauge",
   "metadata": {
    "slideshow": {
     "slide_type": "subslide"
    }
   },
   "outputs": [
    {
     "name": "stdout",
     "output_type": "stream",
     "text": [
      "count    3.459880e+05\n",
      "mean     4.326651e+05\n",
      "std      2.136461e+07\n",
      "min     -3.086123e+07\n",
      "25%      3.468000e+01\n",
      "50%      5.506650e+02\n",
      "75%      1.019935e+04\n",
      "max      7.337038e+09\n",
      "Name: Unit Price Numeric, dtype: float64\n",
      "\n",
      "count    3.459880e+05\n",
      "mean     4.371353e+05\n",
      "std      2.136468e+07\n",
      "min     -3.086123e+07\n",
      "25%      3.000000e+02\n",
      "50%      3.600000e+03\n",
      "75%      1.481420e+04\n",
      "max      7.337038e+09\n",
      "Name: Total Price Numeric, dtype: float64\n"
     ]
    }
   ],
   "source": [
    "print(df[\"Unit Price Numeric\"].describe())\n",
    "print(\"\")\n",
    "print(df[\"Total Price Numeric\"].describe())"
   ]
  },
  {
   "cell_type": "markdown",
   "id": "unavailable-supplier",
   "metadata": {
    "slideshow": {
     "slide_type": "notes"
    }
   },
   "source": [
    "Clearly, there are some *invalid* values in the *Unit Price Numeric* & *Total Price Numeric*\n",
    "columns since prices cannot be negative."
   ]
  },
  {
   "cell_type": "code",
   "execution_count": 24,
   "id": "plastic-agency",
   "metadata": {
    "slideshow": {
     "slide_type": "subslide"
    }
   },
   "outputs": [
    {
     "data": {
      "text/plain": [
       "(1438, 35)"
      ]
     },
     "execution_count": 24,
     "metadata": {},
     "output_type": "execute_result"
    }
   ],
   "source": [
    "df.loc[df[\"Total Price Numeric\"] < 0].shape"
   ]
  },
  {
   "cell_type": "markdown",
   "id": "interested-punishment",
   "metadata": {
    "slideshow": {
     "slide_type": "subslide"
    }
   },
   "source": [
    "It is also easy to see that there are outliers in these columns. The following cells illustrate this point"
   ]
  },
  {
   "cell_type": "code",
   "execution_count": 25,
   "id": "successful-roots",
   "metadata": {
    "slideshow": {
     "slide_type": "subslide"
    }
   },
   "outputs": [
    {
     "data": {
      "text/plain": [
       "(45294, 35)"
      ]
     },
     "execution_count": 25,
     "metadata": {},
     "output_type": "execute_result"
    }
   ],
   "source": [
    "IQR = df[\"Total Price Numeric\"].quantile(0.75) - df[\"Total Price Numeric\"].quantile(0.25) \n",
    "df[df[\"Total Price Numeric\"] > 3*IQR].shape"
   ]
  },
  {
   "cell_type": "code",
   "execution_count": 26,
   "id": "practical-bubble",
   "metadata": {
    "slideshow": {
     "slide_type": "subslide"
    }
   },
   "outputs": [
    {
     "data": {
      "text/plain": [
       "3668.519032"
      ]
     },
     "execution_count": 26,
     "metadata": {},
     "output_type": "execute_result"
    }
   ],
   "source": [
    "# The maximum Total price is more than 3 times the 99th percentile\n",
    "df[\"Total Price Numeric\"].max() / df[\"Total Price Numeric\"].quantile(0.99) "
   ]
  },
  {
   "cell_type": "code",
   "execution_count": 27,
   "id": "damaged-story",
   "metadata": {
    "slideshow": {
     "slide_type": "subslide"
    }
   },
   "outputs": [
    {
     "data": {
      "text/plain": [
       "Text(0.5, 0, 'Total Price ($)')"
      ]
     },
     "execution_count": 27,
     "metadata": {},
     "output_type": "execute_result"
    },
    {
     "data": {
      "image/png": "[encoded data removed]",
      "text/plain": [
       "<Figure size 432x288 with 1 Axes>"
      ]
     },
     "metadata": {},
     "output_type": "display_data"
    }
   ],
   "source": [
    "expensive_items = df[\"Total Price Numeric\"] > 1e5 # Roughly 92 percentile\n",
    "invalid_item_price = df[\"Total Price Numeric\"] < 0\n",
    "total_price_hist = df.loc[(~expensive_items) & (~invalid_item_price), \"Total Price Numeric\"].plot(kind=\"hist\", bins=20, ec='black')\n",
    "total_price_hist.set_xlabel(\"Total Price ($)\")"
   ]
  },
  {
   "cell_type": "markdown",
   "id": "dramatic-garbage",
   "metadata": {
    "slideshow": {
     "slide_type": "notes"
    }
   },
   "source": [
    "About half of the purchases are cheaper than $\\$5000$ dollars.\n",
    "And, the total price of about $90\\%$ of the purchases is less than $\\$100,000$"
   ]
  },
  {
   "cell_type": "markdown",
   "id": "foster-reply",
   "metadata": {
    "slideshow": {
     "slide_type": "slide"
    }
   },
   "source": [
    "#### Q5. How has Purchase Order spend been trending over time?"
   ]
  },
  {
   "cell_type": "code",
   "execution_count": 28,
   "id": "literary-recipe",
   "metadata": {
    "slideshow": {
     "slide_type": "skip"
    }
   },
   "outputs": [
    {
     "data": {
      "text/plain": [
       "<PeriodArray>\n",
       "['2013-08', '2014-01', '2013-11', '2014-06', '2014-03', '2014-10', '2014-04',\n",
       " '2015-02', '2013-06', '2012-10', '2015-06', '2012-07', '2012-09', '2012-11',\n",
       " '2014-05', '2013-05', '2013-10', '2013-09', '2012-12', '2013-01', '2013-02',\n",
       " '2013-03', '2013-04', '2013-07', '2014-02', '2013-12', '2015-04', '2014-08',\n",
       " '2014-07', '2014-12', '2015-03', '2014-09', '2014-11', '2015-01', '2015-05',\n",
       " '2012-08']\n",
       "Length: 36, dtype: period[M]"
      ]
     },
     "execution_count": 28,
     "metadata": {},
     "output_type": "execute_result"
    }
   ],
   "source": [
    "df[\"Creation Date Format\"] = pd.to_datetime(df[\"Creation Date\"])\n",
    "df[\"Creation Year-Month\"] = pd.to_datetime(df[\"Creation Date\"]).dt.to_period('M')\n",
    "df[\"Creation Year-Month\"].unique()"
   ]
  },
  {
   "cell_type": "code",
   "execution_count": 29,
   "id": "deadly-terrorism",
   "metadata": {
    "slideshow": {
     "slide_type": "skip"
    }
   },
   "outputs": [
    {
     "data": {
      "text/plain": [
       "<PeriodArray>\n",
       "[    'NaT', '2014-06', '2014-03', '2014-10', '2014-04', '2013-07', '2015-06',\n",
       " '2012-08', '2012-10', '2012-11',\n",
       " ...\n",
       " '2001-02', '2017-05', '2000-04', '2024-08', '2048-09', '2069-10', '2023-06',\n",
       " '2001-03', '2017-09', '2021-06']\n",
       "Length: 266, dtype: period[M]"
      ]
     },
     "execution_count": 29,
     "metadata": {},
     "output_type": "execute_result"
    }
   ],
   "source": [
    "df[\"Purchase Date Format\"] = pd.to_datetime(df[\"Purchase Date\"], errors=\"coerce\")\n",
    "df[\"Purchase Year-Month\"] = df[\"Purchase Date Format\"].dt.to_period('M')\n",
    "df[\"Purchase Year-Month\"].unique()"
   ]
  },
  {
   "cell_type": "code",
   "execution_count": 30,
   "id": "finnish-corpus",
   "metadata": {
    "slideshow": {
     "slide_type": "skip"
    }
   },
   "outputs": [
    {
     "data": {
      "text/plain": [
       "30627     1911-10\n",
       "16122     1912-03\n",
       "26764     1912-05\n",
       "23874     1912-07\n",
       "214627    1912-07\n",
       "           ...   \n",
       "242753    2112-11\n",
       "286029    2112-11\n",
       "23985     2112-11\n",
       "66038     2112-11\n",
       "63018     2238-02\n",
       "Name: Purchase Year-Month, Length: 328556, dtype: period[M]"
      ]
     },
     "execution_count": 30,
     "metadata": {},
     "output_type": "execute_result"
    }
   ],
   "source": [
    "df.loc[~df[\"Purchase Year-Month\"].isna(), \"Purchase Year-Month\"].sort_values()"
   ]
  },
  {
   "cell_type": "code",
   "execution_count": 31,
   "id": "challenging-butterfly",
   "metadata": {
    "slideshow": {
     "slide_type": "skip"
    }
   },
   "outputs": [
    {
     "data": {
      "text/plain": [
       "Text(0, 0.5, 'Spend in Billions ($)')"
      ]
     },
     "execution_count": 31,
     "metadata": {},
     "output_type": "execute_result"
    },
    {
     "data": {
      "image/png": "[encoded data removed]",
      "text/plain": [
       "<Figure size 432x288 with 1 Axes>"
      ]
     },
     "metadata": {},
     "output_type": "display_data"
    }
   ],
   "source": [
    "spend_trend = df.groupby(\"Creation Year-Month\", as_index=False).agg(Spend=(\"Total Price Numeric\", \"sum\"))\n",
    "spend_plot = spend_trend.plot(x=\"Creation Year-Month\", y=\"Spend\", kind=\"line\")\n",
    "scale_y = 1e9\n",
    "ticks_y = ticker.FuncFormatter(lambda x, _: f'{x/scale_y:g}')\n",
    "spend_plot.yaxis.set_major_formatter(ticks_y)\n",
    "spend_plot.set_ylabel(\"Spend in Billions ($)\")"
   ]
  },
  {
   "cell_type": "code",
   "execution_count": 32,
   "id": "billion-discount",
   "metadata": {
    "slideshow": {
     "slide_type": "skip"
    }
   },
   "outputs": [
    {
     "data": {
      "text/html": [
       "<div>\n",
       "<style scoped>\n",
       "    .dataframe tbody tr th:only-of-type {\n",
       "        vertical-align: middle;\n",
       "    }\n",
       "\n",
       "    .dataframe tbody tr th {\n",
       "        vertical-align: top;\n",
       "    }\n",
       "\n",
       "    .dataframe thead th {\n",
       "        text-align: right;\n",
       "    }\n",
       "</style>\n",
       "<table border=\"1\" class=\"dataframe\">\n",
       "  <thead>\n",
       "    <tr style=\"text-align: right;\">\n",
       "      <th></th>\n",
       "      <th>Creation Year-Month</th>\n",
       "      <th>Spend</th>\n",
       "    </tr>\n",
       "  </thead>\n",
       "  <tbody>\n",
       "    <tr>\n",
       "      <th>0</th>\n",
       "      <td>2012-07</td>\n",
       "      <td>8.853355e+09</td>\n",
       "    </tr>\n",
       "    <tr>\n",
       "      <th>34</th>\n",
       "      <td>2015-05</td>\n",
       "      <td>8.960023e+09</td>\n",
       "    </tr>\n",
       "    <tr>\n",
       "      <th>23</th>\n",
       "      <td>2014-06</td>\n",
       "      <td>1.103727e+10</td>\n",
       "    </tr>\n",
       "    <tr>\n",
       "      <th>33</th>\n",
       "      <td>2015-04</td>\n",
       "      <td>1.108400e+10</td>\n",
       "    </tr>\n",
       "    <tr>\n",
       "      <th>8</th>\n",
       "      <td>2013-03</td>\n",
       "      <td>2.328749e+10</td>\n",
       "    </tr>\n",
       "  </tbody>\n",
       "</table>\n",
       "</div>"
      ],
      "text/plain": [
       "   Creation Year-Month         Spend\n",
       "0              2012-07  8.853355e+09\n",
       "34             2015-05  8.960023e+09\n",
       "23             2014-06  1.103727e+10\n",
       "33             2015-04  1.108400e+10\n",
       "8              2013-03  2.328749e+10"
      ]
     },
     "execution_count": 32,
     "metadata": {},
     "output_type": "execute_result"
    }
   ],
   "source": [
    "spend_trend.sort_values(\"Spend\").tail()"
   ]
  },
  {
   "cell_type": "markdown",
   "id": "thirty-render",
   "metadata": {
    "slideshow": {
     "slide_type": "skip"
    }
   },
   "source": [
    "- The spend amount for the Months Jan to March and July seems to be higher for all the fiscal years\n",
    "- There was also one month (March 2013) in which spending spiked to about $23$ billion dollars."
   ]
  },
  {
   "cell_type": "code",
   "execution_count": 33,
   "id": "single-homework",
   "metadata": {
    "slideshow": {
     "slide_type": "skip"
    }
   },
   "outputs": [
    {
     "data": {
      "text/html": [
       "<div>\n",
       "<style scoped>\n",
       "    .dataframe tbody tr th:only-of-type {\n",
       "        vertical-align: middle;\n",
       "    }\n",
       "\n",
       "    .dataframe tbody tr th {\n",
       "        vertical-align: top;\n",
       "    }\n",
       "\n",
       "    .dataframe thead th {\n",
       "        text-align: right;\n",
       "    }\n",
       "</style>\n",
       "<table border=\"1\" class=\"dataframe\">\n",
       "  <thead>\n",
       "    <tr style=\"text-align: right;\">\n",
       "      <th></th>\n",
       "      <th>Creation Date</th>\n",
       "      <th>Purchase Date</th>\n",
       "      <th>Fiscal Year</th>\n",
       "      <th>LPA Number</th>\n",
       "      <th>Purchase Order Number</th>\n",
       "      <th>Requisition Number</th>\n",
       "      <th>Acquisition Type</th>\n",
       "      <th>Sub-Acquisition Type</th>\n",
       "      <th>Acquisition Method</th>\n",
       "      <th>Sub-Acquisition Method</th>\n",
       "      <th>Department Name</th>\n",
       "      <th>Supplier Code</th>\n",
       "      <th>Supplier Name</th>\n",
       "      <th>Supplier Qualifications</th>\n",
       "      <th>Supplier Zip Code</th>\n",
       "      <th>CalCard</th>\n",
       "      <th>Item Name</th>\n",
       "      <th>Item Description</th>\n",
       "      <th>Quantity</th>\n",
       "      <th>Unit Price</th>\n",
       "      <th>Total Price</th>\n",
       "      <th>Classification Codes</th>\n",
       "      <th>Normalized UNSPSC</th>\n",
       "      <th>Commodity Title</th>\n",
       "      <th>Class</th>\n",
       "      <th>Class Title</th>\n",
       "      <th>Family</th>\n",
       "      <th>Family Title</th>\n",
       "      <th>Segment</th>\n",
       "      <th>Segment Title</th>\n",
       "      <th>Location</th>\n",
       "      <th>Total Price Numeric</th>\n",
       "      <th>Unit Price Numeric</th>\n",
       "      <th>Acquisition Method Encoded</th>\n",
       "      <th>Acquisition Type Encoded</th>\n",
       "      <th>Creation Date Format</th>\n",
       "      <th>Creation Year-Month</th>\n",
       "      <th>Purchase Date Format</th>\n",
       "      <th>Purchase Year-Month</th>\n",
       "    </tr>\n",
       "  </thead>\n",
       "  <tbody>\n",
       "    <tr>\n",
       "      <th>39084</th>\n",
       "      <td>03/11/2013</td>\n",
       "      <td>06/23/2010</td>\n",
       "      <td>2012-2013</td>\n",
       "      <td>NaN</td>\n",
       "      <td>04-36069</td>\n",
       "      <td>NaN</td>\n",
       "      <td>NON-IT Services</td>\n",
       "      <td>Nonprofit Organizations</td>\n",
       "      <td>Informal Competitive</td>\n",
       "      <td>NaN</td>\n",
       "      <td>Health Care Services, Department of</td>\n",
       "      <td>1087520.0</td>\n",
       "      <td>L.A. Care Health Plan</td>\n",
       "      <td>NaN</td>\n",
       "      <td>90013</td>\n",
       "      <td>NO</td>\n",
       "      <td>04-36069 A07</td>\n",
       "      <td>Amendment A07 extends term and increases budget.</td>\n",
       "      <td>1.0</td>\n",
       "      <td>$1593616000.00</td>\n",
       "      <td>$1593616000.00</td>\n",
       "      <td>85101705</td>\n",
       "      <td>85101705.0</td>\n",
       "      <td>Public health administration</td>\n",
       "      <td>85101700.0</td>\n",
       "      <td>Health administration services</td>\n",
       "      <td>85100000.0</td>\n",
       "      <td>Comprehensive health services</td>\n",
       "      <td>85000000.0</td>\n",
       "      <td>Healthcare Services</td>\n",
       "      <td>90013\\n(34.04469, -118.241599)</td>\n",
       "      <td>1.593616e+09</td>\n",
       "      <td>1.593616e+09</td>\n",
       "      <td>5</td>\n",
       "      <td>4</td>\n",
       "      <td>2013-03-11</td>\n",
       "      <td>2013-03</td>\n",
       "      <td>2010-06-23</td>\n",
       "      <td>2010-06</td>\n",
       "    </tr>\n",
       "    <tr>\n",
       "      <th>39096</th>\n",
       "      <td>03/11/2013</td>\n",
       "      <td>06/23/2010</td>\n",
       "      <td>2012-2013</td>\n",
       "      <td>NaN</td>\n",
       "      <td>04-36069</td>\n",
       "      <td>NaN</td>\n",
       "      <td>NON-IT Services</td>\n",
       "      <td>Nonprofit Organizations</td>\n",
       "      <td>Informal Competitive</td>\n",
       "      <td>NaN</td>\n",
       "      <td>Health Care Services, Department of</td>\n",
       "      <td>1087520.0</td>\n",
       "      <td>L.A. Care Health Plan</td>\n",
       "      <td>NaN</td>\n",
       "      <td>90013</td>\n",
       "      <td>NO</td>\n",
       "      <td>04-36069 A09a</td>\n",
       "      <td>Amendment 9a Incorporates SB 90 Quality Assura...</td>\n",
       "      <td>1.0</td>\n",
       "      <td>$1785106000.00</td>\n",
       "      <td>$1785106000.00</td>\n",
       "      <td>85101705</td>\n",
       "      <td>85101705.0</td>\n",
       "      <td>Public health administration</td>\n",
       "      <td>85101700.0</td>\n",
       "      <td>Health administration services</td>\n",
       "      <td>85100000.0</td>\n",
       "      <td>Comprehensive health services</td>\n",
       "      <td>85000000.0</td>\n",
       "      <td>Healthcare Services</td>\n",
       "      <td>90013\\n(34.04469, -118.241599)</td>\n",
       "      <td>1.785106e+09</td>\n",
       "      <td>1.785106e+09</td>\n",
       "      <td>5</td>\n",
       "      <td>4</td>\n",
       "      <td>2013-03-11</td>\n",
       "      <td>2013-03</td>\n",
       "      <td>2010-06-23</td>\n",
       "      <td>2010-06</td>\n",
       "    </tr>\n",
       "    <tr>\n",
       "      <th>212412</th>\n",
       "      <td>03/11/2013</td>\n",
       "      <td>06/23/2010</td>\n",
       "      <td>2012-2013</td>\n",
       "      <td>NaN</td>\n",
       "      <td>04-36069</td>\n",
       "      <td>NaN</td>\n",
       "      <td>NON-IT Services</td>\n",
       "      <td>Nonprofit Organizations</td>\n",
       "      <td>Informal Competitive</td>\n",
       "      <td>NaN</td>\n",
       "      <td>Health Care Services, Department of</td>\n",
       "      <td>1087520.0</td>\n",
       "      <td>L.A. Care Health Plan</td>\n",
       "      <td>NaN</td>\n",
       "      <td>90013</td>\n",
       "      <td>NO</td>\n",
       "      <td>04-36069 A09</td>\n",
       "      <td>Amendment A09 extends term.</td>\n",
       "      <td>1.0</td>\n",
       "      <td>$1877260000.00</td>\n",
       "      <td>$1877260000.00</td>\n",
       "      <td>85101705</td>\n",
       "      <td>85101705.0</td>\n",
       "      <td>Public health administration</td>\n",
       "      <td>85101700.0</td>\n",
       "      <td>Health administration services</td>\n",
       "      <td>85100000.0</td>\n",
       "      <td>Comprehensive health services</td>\n",
       "      <td>85000000.0</td>\n",
       "      <td>Healthcare Services</td>\n",
       "      <td>90013\\n(34.04469, -118.241599)</td>\n",
       "      <td>1.877260e+09</td>\n",
       "      <td>1.877260e+09</td>\n",
       "      <td>5</td>\n",
       "      <td>4</td>\n",
       "      <td>2013-03-11</td>\n",
       "      <td>2013-03</td>\n",
       "      <td>2010-06-23</td>\n",
       "      <td>2010-06</td>\n",
       "    </tr>\n",
       "    <tr>\n",
       "      <th>38396</th>\n",
       "      <td>03/27/2013</td>\n",
       "      <td>07/01/2004</td>\n",
       "      <td>2012-2013</td>\n",
       "      <td>NaN</td>\n",
       "      <td>04-35401</td>\n",
       "      <td>NaN</td>\n",
       "      <td>NON-IT Services</td>\n",
       "      <td>Services are specifically exempt by statute</td>\n",
       "      <td>Informal Competitive</td>\n",
       "      <td>NaN</td>\n",
       "      <td>Health Care Services, Department of</td>\n",
       "      <td>1030158.0</td>\n",
       "      <td>Health Plan of San Joaquin</td>\n",
       "      <td>NaN</td>\n",
       "      <td>95231</td>\n",
       "      <td>NO</td>\n",
       "      <td>04-35401 A14</td>\n",
       "      <td>Amendment A14 Funding adj.\\n    Adding     Sta...</td>\n",
       "      <td>1.0</td>\n",
       "      <td>$1948168000.00</td>\n",
       "      <td>$1948168000.00</td>\n",
       "      <td>85101705</td>\n",
       "      <td>85101705.0</td>\n",
       "      <td>Public health administration</td>\n",
       "      <td>85101700.0</td>\n",
       "      <td>Health administration services</td>\n",
       "      <td>85100000.0</td>\n",
       "      <td>Comprehensive health services</td>\n",
       "      <td>85000000.0</td>\n",
       "      <td>Healthcare Services</td>\n",
       "      <td>95231\\n(37.878707, -121.287553)</td>\n",
       "      <td>1.948168e+09</td>\n",
       "      <td>1.948168e+09</td>\n",
       "      <td>5</td>\n",
       "      <td>4</td>\n",
       "      <td>2013-03-27</td>\n",
       "      <td>2013-03</td>\n",
       "      <td>2004-07-01</td>\n",
       "      <td>2004-07</td>\n",
       "    </tr>\n",
       "    <tr>\n",
       "      <th>304848</th>\n",
       "      <td>03/11/2013</td>\n",
       "      <td>06/23/2010</td>\n",
       "      <td>2012-2013</td>\n",
       "      <td>NaN</td>\n",
       "      <td>04-36069</td>\n",
       "      <td>NaN</td>\n",
       "      <td>NON-IT Services</td>\n",
       "      <td>Nonprofit Organizations</td>\n",
       "      <td>Informal Competitive</td>\n",
       "      <td>NaN</td>\n",
       "      <td>Health Care Services, Department of</td>\n",
       "      <td>1087520.0</td>\n",
       "      <td>L.A. Care Health Plan</td>\n",
       "      <td>NaN</td>\n",
       "      <td>90013</td>\n",
       "      <td>NO</td>\n",
       "      <td>04-36069 A10</td>\n",
       "      <td>Amendment A10 adjusts funding and extends term.</td>\n",
       "      <td>1.0</td>\n",
       "      <td>$3194190000.00</td>\n",
       "      <td>$3194190000.00</td>\n",
       "      <td>85101705</td>\n",
       "      <td>85101705.0</td>\n",
       "      <td>Public health administration</td>\n",
       "      <td>85101700.0</td>\n",
       "      <td>Health administration services</td>\n",
       "      <td>85100000.0</td>\n",
       "      <td>Comprehensive health services</td>\n",
       "      <td>85000000.0</td>\n",
       "      <td>Healthcare Services</td>\n",
       "      <td>90013\\n(34.04469, -118.241599)</td>\n",
       "      <td>3.194190e+09</td>\n",
       "      <td>3.194190e+09</td>\n",
       "      <td>5</td>\n",
       "      <td>4</td>\n",
       "      <td>2013-03-11</td>\n",
       "      <td>2013-03</td>\n",
       "      <td>2010-06-23</td>\n",
       "      <td>2010-06</td>\n",
       "    </tr>\n",
       "  </tbody>\n",
       "</table>\n",
       "</div>"
      ],
      "text/plain": [
       "       Creation Date Purchase Date Fiscal Year LPA Number  \\\n",
       "39084     03/11/2013    06/23/2010   2012-2013        NaN   \n",
       "39096     03/11/2013    06/23/2010   2012-2013        NaN   \n",
       "212412    03/11/2013    06/23/2010   2012-2013        NaN   \n",
       "38396     03/27/2013    07/01/2004   2012-2013        NaN   \n",
       "304848    03/11/2013    06/23/2010   2012-2013        NaN   \n",
       "\n",
       "       Purchase Order Number Requisition Number Acquisition Type  \\\n",
       "39084               04-36069                NaN  NON-IT Services   \n",
       "39096               04-36069                NaN  NON-IT Services   \n",
       "212412              04-36069                NaN  NON-IT Services   \n",
       "38396               04-35401                NaN  NON-IT Services   \n",
       "304848              04-36069                NaN  NON-IT Services   \n",
       "\n",
       "                               Sub-Acquisition Type    Acquisition Method  \\\n",
       "39084                       Nonprofit Organizations  Informal Competitive   \n",
       "39096                       Nonprofit Organizations  Informal Competitive   \n",
       "212412                      Nonprofit Organizations  Informal Competitive   \n",
       "38396   Services are specifically exempt by statute  Informal Competitive   \n",
       "304848                      Nonprofit Organizations  Informal Competitive   \n",
       "\n",
       "       Sub-Acquisition Method                      Department Name  \\\n",
       "39084                     NaN  Health Care Services, Department of   \n",
       "39096                     NaN  Health Care Services, Department of   \n",
       "212412                    NaN  Health Care Services, Department of   \n",
       "38396                     NaN  Health Care Services, Department of   \n",
       "304848                    NaN  Health Care Services, Department of   \n",
       "\n",
       "        Supplier Code               Supplier Name Supplier Qualifications  \\\n",
       "39084       1087520.0       L.A. Care Health Plan                     NaN   \n",
       "39096       1087520.0       L.A. Care Health Plan                     NaN   \n",
       "212412      1087520.0       L.A. Care Health Plan                     NaN   \n",
       "38396       1030158.0  Health Plan of San Joaquin                     NaN   \n",
       "304848      1087520.0       L.A. Care Health Plan                     NaN   \n",
       "\n",
       "       Supplier Zip Code CalCard      Item Name  \\\n",
       "39084              90013      NO   04-36069 A07   \n",
       "39096              90013      NO  04-36069 A09a   \n",
       "212412             90013      NO   04-36069 A09   \n",
       "38396              95231      NO   04-35401 A14   \n",
       "304848             90013      NO   04-36069 A10   \n",
       "\n",
       "                                         Item Description  Quantity  \\\n",
       "39084    Amendment A07 extends term and increases budget.       1.0   \n",
       "39096   Amendment 9a Incorporates SB 90 Quality Assura...       1.0   \n",
       "212412                        Amendment A09 extends term.       1.0   \n",
       "38396   Amendment A14 Funding adj.\\n    Adding     Sta...       1.0   \n",
       "304848    Amendment A10 adjusts funding and extends term.       1.0   \n",
       "\n",
       "            Unit Price     Total Price Classification Codes  \\\n",
       "39084   $1593616000.00  $1593616000.00             85101705   \n",
       "39096   $1785106000.00  $1785106000.00             85101705   \n",
       "212412  $1877260000.00  $1877260000.00             85101705   \n",
       "38396   $1948168000.00  $1948168000.00             85101705   \n",
       "304848  $3194190000.00  $3194190000.00             85101705   \n",
       "\n",
       "        Normalized UNSPSC               Commodity Title       Class  \\\n",
       "39084          85101705.0  Public health administration  85101700.0   \n",
       "39096          85101705.0  Public health administration  85101700.0   \n",
       "212412         85101705.0  Public health administration  85101700.0   \n",
       "38396          85101705.0  Public health administration  85101700.0   \n",
       "304848         85101705.0  Public health administration  85101700.0   \n",
       "\n",
       "                           Class Title      Family  \\\n",
       "39084   Health administration services  85100000.0   \n",
       "39096   Health administration services  85100000.0   \n",
       "212412  Health administration services  85100000.0   \n",
       "38396   Health administration services  85100000.0   \n",
       "304848  Health administration services  85100000.0   \n",
       "\n",
       "                         Family Title     Segment        Segment Title  \\\n",
       "39084   Comprehensive health services  85000000.0  Healthcare Services   \n",
       "39096   Comprehensive health services  85000000.0  Healthcare Services   \n",
       "212412  Comprehensive health services  85000000.0  Healthcare Services   \n",
       "38396   Comprehensive health services  85000000.0  Healthcare Services   \n",
       "304848  Comprehensive health services  85000000.0  Healthcare Services   \n",
       "\n",
       "                               Location  Total Price Numeric  \\\n",
       "39084    90013\\n(34.04469, -118.241599)         1.593616e+09   \n",
       "39096    90013\\n(34.04469, -118.241599)         1.785106e+09   \n",
       "212412   90013\\n(34.04469, -118.241599)         1.877260e+09   \n",
       "38396   95231\\n(37.878707, -121.287553)         1.948168e+09   \n",
       "304848   90013\\n(34.04469, -118.241599)         3.194190e+09   \n",
       "\n",
       "        Unit Price Numeric  Acquisition Method Encoded  \\\n",
       "39084         1.593616e+09                           5   \n",
       "39096         1.785106e+09                           5   \n",
       "212412        1.877260e+09                           5   \n",
       "38396         1.948168e+09                           5   \n",
       "304848        3.194190e+09                           5   \n",
       "\n",
       "        Acquisition Type Encoded Creation Date Format Creation Year-Month  \\\n",
       "39084                          4           2013-03-11             2013-03   \n",
       "39096                          4           2013-03-11             2013-03   \n",
       "212412                         4           2013-03-11             2013-03   \n",
       "38396                          4           2013-03-27             2013-03   \n",
       "304848                         4           2013-03-11             2013-03   \n",
       "\n",
       "       Purchase Date Format Purchase Year-Month  \n",
       "39084            2010-06-23             2010-06  \n",
       "39096            2010-06-23             2010-06  \n",
       "212412           2010-06-23             2010-06  \n",
       "38396            2004-07-01             2004-07  \n",
       "304848           2010-06-23             2010-06  "
      ]
     },
     "execution_count": 33,
     "metadata": {},
     "output_type": "execute_result"
    }
   ],
   "source": [
    "df[df[\"Creation Year-Month\"] == pd.to_datetime(\"2013/03\").to_period('M')].sort_values(\"Total Price Numeric\").tail()"
   ]
  },
  {
   "cell_type": "code",
   "execution_count": 34,
   "id": "diagnostic-tackle",
   "metadata": {
    "slideshow": {
     "slide_type": "skip"
    }
   },
   "outputs": [
    {
     "data": {
      "text/html": [
       "<div>\n",
       "<style scoped>\n",
       "    .dataframe tbody tr th:only-of-type {\n",
       "        vertical-align: middle;\n",
       "    }\n",
       "\n",
       "    .dataframe tbody tr th {\n",
       "        vertical-align: top;\n",
       "    }\n",
       "\n",
       "    .dataframe thead th {\n",
       "        text-align: right;\n",
       "    }\n",
       "</style>\n",
       "<table border=\"1\" class=\"dataframe\">\n",
       "  <thead>\n",
       "    <tr style=\"text-align: right;\">\n",
       "      <th></th>\n",
       "      <th>Total Price Numeric</th>\n",
       "    </tr>\n",
       "    <tr>\n",
       "      <th>Creation Year-Month</th>\n",
       "      <th></th>\n",
       "    </tr>\n",
       "  </thead>\n",
       "  <tbody>\n",
       "    <tr>\n",
       "      <th>2013-03</th>\n",
       "      <td>2.247873e+10</td>\n",
       "    </tr>\n",
       "    <tr>\n",
       "      <th>2014-06</th>\n",
       "      <td>1.004526e+10</td>\n",
       "    </tr>\n",
       "    <tr>\n",
       "      <th>2015-04</th>\n",
       "      <td>9.937736e+09</td>\n",
       "    </tr>\n",
       "    <tr>\n",
       "      <th>2013-04</th>\n",
       "      <td>8.289894e+09</td>\n",
       "    </tr>\n",
       "    <tr>\n",
       "      <th>2015-05</th>\n",
       "      <td>7.661887e+09</td>\n",
       "    </tr>\n",
       "    <tr>\n",
       "      <th>2015-06</th>\n",
       "      <td>4.708679e+09</td>\n",
       "    </tr>\n",
       "    <tr>\n",
       "      <th>2014-03</th>\n",
       "      <td>4.395927e+09</td>\n",
       "    </tr>\n",
       "    <tr>\n",
       "      <th>2014-02</th>\n",
       "      <td>3.801599e+09</td>\n",
       "    </tr>\n",
       "    <tr>\n",
       "      <th>2013-06</th>\n",
       "      <td>3.789394e+09</td>\n",
       "    </tr>\n",
       "    <tr>\n",
       "      <th>2015-01</th>\n",
       "      <td>2.839057e+09</td>\n",
       "    </tr>\n",
       "    <tr>\n",
       "      <th>2014-04</th>\n",
       "      <td>2.743076e+09</td>\n",
       "    </tr>\n",
       "    <tr>\n",
       "      <th>2015-02</th>\n",
       "      <td>2.692303e+09</td>\n",
       "    </tr>\n",
       "    <tr>\n",
       "      <th>2013-05</th>\n",
       "      <td>2.113679e+09</td>\n",
       "    </tr>\n",
       "    <tr>\n",
       "      <th>2014-07</th>\n",
       "      <td>1.032269e+09</td>\n",
       "    </tr>\n",
       "    <tr>\n",
       "      <th>2013-07</th>\n",
       "      <td>1.032009e+09</td>\n",
       "    </tr>\n",
       "    <tr>\n",
       "      <th>2013-08</th>\n",
       "      <td>5.713008e+08</td>\n",
       "    </tr>\n",
       "    <tr>\n",
       "      <th>2013-01</th>\n",
       "      <td>5.677643e+08</td>\n",
       "    </tr>\n",
       "    <tr>\n",
       "      <th>2012-07</th>\n",
       "      <td>5.649354e+08</td>\n",
       "    </tr>\n",
       "    <tr>\n",
       "      <th>2014-11</th>\n",
       "      <td>5.593680e+08</td>\n",
       "    </tr>\n",
       "    <tr>\n",
       "      <th>2014-09</th>\n",
       "      <td>5.492668e+08</td>\n",
       "    </tr>\n",
       "    <tr>\n",
       "      <th>2014-05</th>\n",
       "      <td>4.679226e+08</td>\n",
       "    </tr>\n",
       "    <tr>\n",
       "      <th>2013-09</th>\n",
       "      <td>4.539934e+08</td>\n",
       "    </tr>\n",
       "    <tr>\n",
       "      <th>2015-03</th>\n",
       "      <td>4.423340e+08</td>\n",
       "    </tr>\n",
       "    <tr>\n",
       "      <th>2014-08</th>\n",
       "      <td>4.401060e+08</td>\n",
       "    </tr>\n",
       "    <tr>\n",
       "      <th>2013-11</th>\n",
       "      <td>4.347443e+08</td>\n",
       "    </tr>\n",
       "    <tr>\n",
       "      <th>2013-10</th>\n",
       "      <td>4.008049e+08</td>\n",
       "    </tr>\n",
       "    <tr>\n",
       "      <th>2013-12</th>\n",
       "      <td>3.815700e+08</td>\n",
       "    </tr>\n",
       "    <tr>\n",
       "      <th>2013-02</th>\n",
       "      <td>3.626997e+08</td>\n",
       "    </tr>\n",
       "    <tr>\n",
       "      <th>2012-09</th>\n",
       "      <td>3.584126e+08</td>\n",
       "    </tr>\n",
       "    <tr>\n",
       "      <th>2014-10</th>\n",
       "      <td>2.687485e+08</td>\n",
       "    </tr>\n",
       "    <tr>\n",
       "      <th>2014-01</th>\n",
       "      <td>2.611970e+08</td>\n",
       "    </tr>\n",
       "    <tr>\n",
       "      <th>2014-12</th>\n",
       "      <td>2.105187e+08</td>\n",
       "    </tr>\n",
       "    <tr>\n",
       "      <th>2012-08</th>\n",
       "      <td>1.941417e+08</td>\n",
       "    </tr>\n",
       "    <tr>\n",
       "      <th>2012-12</th>\n",
       "      <td>1.763986e+08</td>\n",
       "    </tr>\n",
       "    <tr>\n",
       "      <th>2012-11</th>\n",
       "      <td>1.482961e+08</td>\n",
       "    </tr>\n",
       "    <tr>\n",
       "      <th>2012-10</th>\n",
       "      <td>7.878094e+07</td>\n",
       "    </tr>\n",
       "  </tbody>\n",
       "</table>\n",
       "</div>"
      ],
      "text/plain": [
       "                     Total Price Numeric\n",
       "Creation Year-Month                     \n",
       "2013-03                     2.247873e+10\n",
       "2014-06                     1.004526e+10\n",
       "2015-04                     9.937736e+09\n",
       "2013-04                     8.289894e+09\n",
       "2015-05                     7.661887e+09\n",
       "2015-06                     4.708679e+09\n",
       "2014-03                     4.395927e+09\n",
       "2014-02                     3.801599e+09\n",
       "2013-06                     3.789394e+09\n",
       "2015-01                     2.839057e+09\n",
       "2014-04                     2.743076e+09\n",
       "2015-02                     2.692303e+09\n",
       "2013-05                     2.113679e+09\n",
       "2014-07                     1.032269e+09\n",
       "2013-07                     1.032009e+09\n",
       "2013-08                     5.713008e+08\n",
       "2013-01                     5.677643e+08\n",
       "2012-07                     5.649354e+08\n",
       "2014-11                     5.593680e+08\n",
       "2014-09                     5.492668e+08\n",
       "2014-05                     4.679226e+08\n",
       "2013-09                     4.539934e+08\n",
       "2015-03                     4.423340e+08\n",
       "2014-08                     4.401060e+08\n",
       "2013-11                     4.347443e+08\n",
       "2013-10                     4.008049e+08\n",
       "2013-12                     3.815700e+08\n",
       "2013-02                     3.626997e+08\n",
       "2012-09                     3.584126e+08\n",
       "2014-10                     2.687485e+08\n",
       "2014-01                     2.611970e+08\n",
       "2014-12                     2.105187e+08\n",
       "2012-08                     1.941417e+08\n",
       "2012-12                     1.763986e+08\n",
       "2012-11                     1.482961e+08\n",
       "2012-10                     7.878094e+07"
      ]
     },
     "execution_count": 34,
     "metadata": {},
     "output_type": "execute_result"
    }
   ],
   "source": [
    "unequal_dates = df[\"Creation Date Format\"].dt.year != df[\"Purchase Date Format\"].dt.year\n",
    "not_null_dates = df[\"Purchase Date\"].notna()\n",
    "df.loc[(not_null_dates) & (unequal_dates), [\"Creation Year-Month\", \"Total Price Numeric\"]]\\\n",
    "    .groupby(\"Creation Year-Month\").sum().sort_values(\"Total Price Numeric\", ascending=False)"
   ]
  },
  {
   "cell_type": "code",
   "execution_count": 37,
   "id": "strange-transparency",
   "metadata": {
    "slideshow": {
     "slide_type": "subslide"
    }
   },
   "outputs": [
    {
     "data": {
      "image/png": "[encoded data removed]",
      "text/plain": [
       "<Figure size 576x432 with 1 Axes>"
      ]
     },
     "metadata": {},
     "output_type": "display_data"
    }
   ],
   "source": [
    "df[\"Creation Year\"] = pd.to_datetime(df[\"Creation Date\"]).dt.to_period('Y')\n",
    "valid_price = df[\"Total Price Numeric\"] >= 0\n",
    "\n",
    "spend_trend = df[valid_price].groupby(\"Creation Year\", as_index=False).agg(Spend=(\"Total Price Numeric\", \"sum\"))\n",
    "years = spend_trend[\"Creation Year\"].apply(lambda x: x.year)\n",
    "m,b = np.polyfit(years, spend_trend[\"Spend\"], 1)\n",
    "\n",
    "fig = plt.figure(figsize=(8,6))\n",
    "ax = fig.add_subplot(111)\n",
    "# spend_plot = spend_trend.plot(x=\"Creation Year\", y=\"Spend\", kind=\"line\", marker=\"o\",dashes=[6, 2])\n",
    "ax.plot(years, spend_trend[\"Spend\"],'-o', label=\"Spend\")\n",
    "ax.plot(years, m*years + b, dashes=[6,2], label=\"Trend line\")\n",
    "\n",
    "scale_y = 1e9\n",
    "ticks_y = ticker.FuncFormatter(lambda x, _: f'{x/scale_y:g}')\n",
    "ax.yaxis.set_major_formatter(ticks_y)\n",
    "ax.locator_params(integer=True)\n",
    "ax.set_xlabel(\"Year\")\n",
    "ax.set_ylabel(\"Spend in Billions ($)\")\n",
    "ax.legend();"
   ]
  },
  {
   "cell_type": "markdown",
   "id": "funded-increase",
   "metadata": {
    "slideshow": {
     "slide_type": "notes"
    }
   },
   "source": [
    "In general, the spending trend over the years has been growing. \n",
    "The spike in 2013 is the result of a few high-dollar spends whose actual purchase date backdates the creation date."
   ]
  },
  {
   "cell_type": "markdown",
   "id": "universal-corruption",
   "metadata": {
    "slideshow": {
     "slide_type": "slide"
    }
   },
   "source": [
    "#### Q6. Which departments are spending the most money?"
   ]
  },
  {
   "cell_type": "markdown",
   "id": "miniature-hotel",
   "metadata": {
    "slideshow": {
     "slide_type": "notes"
    }
   },
   "source": [
    "About $66\\%$ of the spending comes from the Department of Health Care Services.\n",
    "Departments of Public Health and Social Services are distant second and third, \n",
    "each of them spending about $3.7\\%$ of the total.\n",
    "\n",
    "The top 10 departments by spend are..."
   ]
  },
  {
   "cell_type": "code",
   "execution_count": 38,
   "id": "proof-potential",
   "metadata": {
    "slideshow": {
     "slide_type": "subslide"
    }
   },
   "outputs": [
    {
     "data": {
      "text/html": [
       "<div>\n",
       "<style scoped>\n",
       "    .dataframe tbody tr th:only-of-type {\n",
       "        vertical-align: middle;\n",
       "    }\n",
       "\n",
       "    .dataframe tbody tr th {\n",
       "        vertical-align: top;\n",
       "    }\n",
       "\n",
       "    .dataframe thead th {\n",
       "        text-align: right;\n",
       "    }\n",
       "</style>\n",
       "<table border=\"1\" class=\"dataframe\">\n",
       "  <thead>\n",
       "    <tr style=\"text-align: right;\">\n",
       "      <th></th>\n",
       "      <th>Department Name</th>\n",
       "      <th>num_of_purchases</th>\n",
       "      <th>total_spend</th>\n",
       "      <th>pct_of_total</th>\n",
       "    </tr>\n",
       "  </thead>\n",
       "  <tbody>\n",
       "    <tr>\n",
       "      <th>56</th>\n",
       "      <td>Health Care Services, Department of</td>\n",
       "      <td>2862</td>\n",
       "      <td>9.975935e+10</td>\n",
       "      <td>65.96</td>\n",
       "    </tr>\n",
       "    <tr>\n",
       "      <th>81</th>\n",
       "      <td>Public Health, Department of</td>\n",
       "      <td>4091</td>\n",
       "      <td>5.621708e+09</td>\n",
       "      <td>3.72</td>\n",
       "    </tr>\n",
       "    <tr>\n",
       "      <th>92</th>\n",
       "      <td>Social Services, Department of</td>\n",
       "      <td>2323</td>\n",
       "      <td>5.565328e+09</td>\n",
       "      <td>3.68</td>\n",
       "    </tr>\n",
       "    <tr>\n",
       "      <th>31</th>\n",
       "      <td>Corrections and Rehabilitation, Department of</td>\n",
       "      <td>57537</td>\n",
       "      <td>4.711857e+09</td>\n",
       "      <td>3.12</td>\n",
       "    </tr>\n",
       "    <tr>\n",
       "      <th>93</th>\n",
       "      <td>State Hospitals, Department of</td>\n",
       "      <td>18968</td>\n",
       "      <td>4.545650e+09</td>\n",
       "      <td>3.01</td>\n",
       "    </tr>\n",
       "    <tr>\n",
       "      <th>105</th>\n",
       "      <td>Transportation, Department of</td>\n",
       "      <td>17644</td>\n",
       "      <td>4.347883e+09</td>\n",
       "      <td>2.87</td>\n",
       "    </tr>\n",
       "    <tr>\n",
       "      <th>57</th>\n",
       "      <td>High Speed Rail Authority, California</td>\n",
       "      <td>489</td>\n",
       "      <td>3.565362e+09</td>\n",
       "      <td>2.36</td>\n",
       "    </tr>\n",
       "    <tr>\n",
       "      <th>110</th>\n",
       "      <td>Water Resources, Department of</td>\n",
       "      <td>28331</td>\n",
       "      <td>2.790266e+09</td>\n",
       "      <td>1.84</td>\n",
       "    </tr>\n",
       "    <tr>\n",
       "      <th>30</th>\n",
       "      <td>Correctional Health Care Services</td>\n",
       "      <td>32220</td>\n",
       "      <td>2.641174e+09</td>\n",
       "      <td>1.75</td>\n",
       "    </tr>\n",
       "    <tr>\n",
       "      <th>38</th>\n",
       "      <td>Employment Development Department</td>\n",
       "      <td>3412</td>\n",
       "      <td>1.724961e+09</td>\n",
       "      <td>1.14</td>\n",
       "    </tr>\n",
       "  </tbody>\n",
       "</table>\n",
       "</div>"
      ],
      "text/plain": [
       "                                   Department Name  num_of_purchases  \\\n",
       "56             Health Care Services, Department of              2862   \n",
       "81                    Public Health, Department of              4091   \n",
       "92                  Social Services, Department of              2323   \n",
       "31   Corrections and Rehabilitation, Department of             57537   \n",
       "93                  State Hospitals, Department of             18968   \n",
       "105                  Transportation, Department of             17644   \n",
       "57           High Speed Rail Authority, California               489   \n",
       "110                 Water Resources, Department of             28331   \n",
       "30               Correctional Health Care Services             32220   \n",
       "38               Employment Development Department              3412   \n",
       "\n",
       "      total_spend  pct_of_total  \n",
       "56   9.975935e+10         65.96  \n",
       "81   5.621708e+09          3.72  \n",
       "92   5.565328e+09          3.68  \n",
       "31   4.711857e+09          3.12  \n",
       "93   4.545650e+09          3.01  \n",
       "105  4.347883e+09          2.87  \n",
       "57   3.565362e+09          2.36  \n",
       "110  2.790266e+09          1.84  \n",
       "30   2.641174e+09          1.75  \n",
       "38   1.724961e+09          1.14  "
      ]
     },
     "execution_count": 38,
     "metadata": {},
     "output_type": "execute_result"
    }
   ],
   "source": [
    "spend_per_dept = df.groupby(\"Department Name\", as_index=False).agg(num_of_purchases=(\"Total Price Numeric\",\"count\"), total_spend=(\"Total Price Numeric\",\"sum\")).sort_values(\"total_spend\", ascending=False)\n",
    "spend_per_dept[\"pct_of_total\"] = spend_per_dept[\"total_spend\"].apply(lambda x: round(100 *(x/spend_per_dept[\"total_spend\"].sum()),2))\n",
    "spend_per_dept.head(10)"
   ]
  },
  {
   "cell_type": "markdown",
   "id": "civic-swedish",
   "metadata": {
    "slideshow": {
     "slide_type": "slide"
    }
   },
   "source": [
    "#### Q7. Which zip code has the most supplier concentration? Any idea why?"
   ]
  },
  {
   "cell_type": "markdown",
   "id": "vertical-aberdeen",
   "metadata": {
    "slideshow": {
     "slide_type": "subslide"
    }
   },
   "source": [
    "Zip Code 95691 has the most supplier concentration with around $4\\%$ of the purchases originating from that zip code."
   ]
  },
  {
   "cell_type": "code",
   "execution_count": 39,
   "id": "single-mount",
   "metadata": {
    "slideshow": {
     "slide_type": "subslide"
    }
   },
   "outputs": [
    {
     "data": {
      "text/plain": [
       "95691         11095\n",
       "95814         10921\n",
       "95696          8518\n",
       "95827          7159\n",
       "95841          7008\n",
       "              ...  \n",
       "53141-1410        1\n",
       "11201             1\n",
       "2134              1\n",
       "91386             1\n",
       "55044             1\n",
       "Name: Supplier Zip Code, Length: 3993, dtype: int64"
      ]
     },
     "execution_count": 39,
     "metadata": {},
     "output_type": "execute_result"
    }
   ],
   "source": [
    "supplier_count = df[\"Supplier Zip Code\"].value_counts()\n",
    "supplier_count"
   ]
  },
  {
   "cell_type": "code",
   "execution_count": 40,
   "id": "bridal-efficiency",
   "metadata": {
    "slideshow": {
     "slide_type": "skip"
    }
   },
   "outputs": [
    {
     "data": {
      "text/plain": [
       "95691         4.021268\n",
       "95814         3.958203\n",
       "95696         3.087261\n",
       "95827         2.594705\n",
       "95841         2.539977\n",
       "                ...   \n",
       "53141-1410    0.000362\n",
       "11201         0.000362\n",
       "2134          0.000362\n",
       "91386         0.000362\n",
       "55044         0.000362\n",
       "Name: Supplier Zip Code, Length: 3993, dtype: float64"
      ]
     },
     "execution_count": 40,
     "metadata": {},
     "output_type": "execute_result"
    }
   ],
   "source": [
    "supplier_count.apply(lambda x: 100*(x/supplier_count.sum()))"
   ]
  },
  {
   "cell_type": "markdown",
   "id": "falling-morgan",
   "metadata": {
    "slideshow": {
     "slide_type": "subslide"
    }
   },
   "source": [
    "Which suppliers are located in zip code 95691?"
   ]
  },
  {
   "cell_type": "code",
   "execution_count": 41,
   "id": "permanent-clerk",
   "metadata": {
    "scrolled": true,
    "slideshow": {
     "slide_type": "subslide"
    }
   },
   "outputs": [
    {
     "data": {
      "text/plain": [
       "Grainger Industrial Supply                   9441\n",
       "MMG Technology Group Inc                      310\n",
       "Paper Distributors Inc                        219\n",
       "NOR CAL PERFORMANCE                           135\n",
       "ANCHOR SUPPLY                                 105\n",
       "                                             ... \n",
       "AFM ENVIRONMENTAL, INC                          1\n",
       "Michael Palmer                                  1\n",
       "Kutsch, Inc. dba: B&R Head & Block Repair       1\n",
       "KEVCO, INC.                                     1\n",
       "Graebel                                         1\n",
       "Name: Supplier Name, Length: 93, dtype: int64"
      ]
     },
     "execution_count": 41,
     "metadata": {},
     "output_type": "execute_result"
    }
   ],
   "source": [
    "df.loc[df[\"Supplier Zip Code\"] == '95691', \"Supplier Name\"].value_counts()"
   ]
  },
  {
   "cell_type": "code",
   "execution_count": 42,
   "id": "operational-coach",
   "metadata": {
    "slideshow": {
     "slide_type": "subslide"
    }
   },
   "outputs": [
    {
     "data": {
      "text/plain": [
       "WSCA/Coop                                     9267\n",
       "Informal Competitive                           105\n",
       "Fair and Reasonable                             62\n",
       "SB/DVBE Option                                   2\n",
       "Formal Competitive                               2\n",
       "State Programs                                   1\n",
       "Services are specifically exempt by policy       1\n",
       "NCB                                              1\n",
       "Name: Acquisition Method, dtype: int64"
      ]
     },
     "execution_count": 42,
     "metadata": {},
     "output_type": "execute_result"
    }
   ],
   "source": [
    "df.loc[df[\"Supplier Name\"] == \"Grainger Industrial Supply\", \"Acquisition Method\"].value_counts()"
   ]
  },
  {
   "cell_type": "markdown",
   "id": "impressive-innocent",
   "metadata": {
    "slideshow": {
     "slide_type": "notes"
    }
   },
   "source": [
    "- Out of 11095 purchases made from suppliers in zip code 95691, 9441 (about 85%)\n",
    "of the purchases are made from *Grainger Industrial Supply*\n",
    "\n",
    "- 9267 (more than 98%) of the purchases from *Grainger Industrial Supply* are \n",
    "made using the *WSCA/Coop* Acquisition Method."
   ]
  },
  {
   "cell_type": "markdown",
   "id": "italic-puppy",
   "metadata": {
    "slideshow": {
     "slide_type": "slide"
    }
   },
   "source": [
    "#### Q8. What are the top UNSPSC categories? (i.e. 2nd level \"Family\" UNSPSC categories)"
   ]
  },
  {
   "cell_type": "code",
   "execution_count": 43,
   "id": "motivated-torture",
   "metadata": {
    "slideshow": {
     "slide_type": "subslide"
    }
   },
   "outputs": [
    {
     "data": {
      "text/html": [
       "<div>\n",
       "<style scoped>\n",
       "    .dataframe tbody tr th:only-of-type {\n",
       "        vertical-align: middle;\n",
       "    }\n",
       "\n",
       "    .dataframe tbody tr th {\n",
       "        vertical-align: top;\n",
       "    }\n",
       "\n",
       "    .dataframe thead th {\n",
       "        text-align: right;\n",
       "    }\n",
       "</style>\n",
       "<table border=\"1\" class=\"dataframe\">\n",
       "  <thead>\n",
       "    <tr style=\"text-align: right;\">\n",
       "      <th></th>\n",
       "      <th>Family Title</th>\n",
       "      <th>count</th>\n",
       "      <th>total_spend</th>\n",
       "    </tr>\n",
       "  </thead>\n",
       "  <tbody>\n",
       "    <tr>\n",
       "      <th>265</th>\n",
       "      <td>Office machines and their supplies and accesso...</td>\n",
       "      <td>16479</td>\n",
       "      <td>8.894055e+07</td>\n",
       "    </tr>\n",
       "    <tr>\n",
       "      <th>150</th>\n",
       "      <td>Fuels</td>\n",
       "      <td>14599</td>\n",
       "      <td>2.885348e+08</td>\n",
       "    </tr>\n",
       "    <tr>\n",
       "      <th>59</th>\n",
       "      <td>Computer services</td>\n",
       "      <td>13946</td>\n",
       "      <td>1.547036e+09</td>\n",
       "    </tr>\n",
       "    <tr>\n",
       "      <th>58</th>\n",
       "      <td>Computer Equipment and Accessories</td>\n",
       "      <td>13851</td>\n",
       "      <td>2.738105e+08</td>\n",
       "    </tr>\n",
       "    <tr>\n",
       "      <th>285</th>\n",
       "      <td>Paper products</td>\n",
       "      <td>10772</td>\n",
       "      <td>1.176002e+08</td>\n",
       "    </tr>\n",
       "    <tr>\n",
       "      <th>...</th>\n",
       "      <td>...</td>\n",
       "      <td>...</td>\n",
       "      <td>...</td>\n",
       "    </tr>\n",
       "    <tr>\n",
       "      <th>117</th>\n",
       "      <td>Fabricated sheet assemblies</td>\n",
       "      <td>1</td>\n",
       "      <td>1.731250e+04</td>\n",
       "    </tr>\n",
       "    <tr>\n",
       "      <th>114</th>\n",
       "      <td>Extrusions</td>\n",
       "      <td>1</td>\n",
       "      <td>1.060400e+04</td>\n",
       "    </tr>\n",
       "    <tr>\n",
       "      <th>207</th>\n",
       "      <td>Live chrysanthemums</td>\n",
       "      <td>1</td>\n",
       "      <td>6.342000e+03</td>\n",
       "    </tr>\n",
       "    <tr>\n",
       "      <th>216</th>\n",
       "      <td>Machined extrusions</td>\n",
       "      <td>1</td>\n",
       "      <td>2.586000e+01</td>\n",
       "    </tr>\n",
       "    <tr>\n",
       "      <th>246</th>\n",
       "      <td>Metal oxide</td>\n",
       "      <td>1</td>\n",
       "      <td>0.000000e+00</td>\n",
       "    </tr>\n",
       "  </tbody>\n",
       "</table>\n",
       "<p>411 rows × 3 columns</p>\n",
       "</div>"
      ],
      "text/plain": [
       "                                          Family Title  count   total_spend\n",
       "265  Office machines and their supplies and accesso...  16479  8.894055e+07\n",
       "150                                              Fuels  14599  2.885348e+08\n",
       "59                                   Computer services  13946  1.547036e+09\n",
       "58                  Computer Equipment and Accessories  13851  2.738105e+08\n",
       "285                                     Paper products  10772  1.176002e+08\n",
       "..                                                 ...    ...           ...\n",
       "117                        Fabricated sheet assemblies      1  1.731250e+04\n",
       "114                                         Extrusions      1  1.060400e+04\n",
       "207                                Live chrysanthemums      1  6.342000e+03\n",
       "216                                Machined extrusions      1  2.586000e+01\n",
       "246                                        Metal oxide      1  0.000000e+00\n",
       "\n",
       "[411 rows x 3 columns]"
      ]
     },
     "execution_count": 43,
     "metadata": {},
     "output_type": "execute_result"
    }
   ],
   "source": [
    "df.groupby(\"Family Title\", as_index=False)\\\n",
    "    .agg(count=(\"Family Title\", \"count\"), total_spend=(\"Total Price Numeric\", \"sum\"))\\\n",
    "    .sort_values([\"count\", \"total_spend\"], ascending=False)"
   ]
  },
  {
   "cell_type": "markdown",
   "id": "disturbed-array",
   "metadata": {
    "slideshow": {
     "slide_type": "skip"
    }
   },
   "source": [
    "#### Q9. Can you prepare a visual for one of the above quantifications you think may be better represented visually?"
   ]
  },
  {
   "cell_type": "markdown",
   "id": "neutral-highway",
   "metadata": {
    "slideshow": {
     "slide_type": "skip"
    }
   },
   "source": [
    "#### Q10. If you could spend another day cleaning up the data to make it more useful what might you do?"
   ]
  },
  {
   "cell_type": "markdown",
   "id": "separate-above",
   "metadata": {
    "slideshow": {
     "slide_type": "skip"
    }
   },
   "source": [
    "#### Q11. If you could find another data set that would complement this one to help answer the above or similar questions, what dataset might be ideal?"
   ]
  },
  {
   "cell_type": "markdown",
   "id": "experimental-cradle",
   "metadata": {
    "slideshow": {
     "slide_type": "skip"
    }
   },
   "source": [
    "# Limitations, Assumptions & Questions"
   ]
  },
  {
   "cell_type": "markdown",
   "id": "superior-wings",
   "metadata": {
    "slideshow": {
     "slide_type": "skip"
    }
   },
   "source": [
    "Question1: Couldn't figure out which column corresponds to \"2nd level \"Family\" UNSPSC categories\" for the 8th question. Currently I am assuming it refers to the \"Family Title\"\n",
    "column. Is that OK or have I misunderstood the question?"
   ]
  },
  {
   "cell_type": "code",
   "execution_count": null,
   "id": "crude-implement",
   "metadata": {
    "slideshow": {
     "slide_type": "skip"
    }
   },
   "outputs": [],
   "source": []
  }
 ],
 "metadata": {
  "kernelspec": {
   "display_name": "Python 3",
   "language": "python",
   "name": "python3"
  },
  "language_info": {
   "codemirror_mode": {
    "name": "ipython",
    "version": 3
   },
   "file_extension": ".py",
   "mimetype": "text/x-python",
   "name": "python",
   "nbconvert_exporter": "python",
   "pygments_lexer": "ipython3",
   "version": "3.7.0"
  }
 },
 "nbformat": 4,
 "nbformat_minor": 5
}
